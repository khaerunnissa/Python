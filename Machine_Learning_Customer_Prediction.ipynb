{
  "cells": [
    {
      "cell_type": "markdown",
      "metadata": {
        "id": "view-in-github",
        "colab_type": "text"
      },
      "source": [
        "<a href=\"https://colab.research.google.com/github/khaerunnissa/Python/blob/master/Machine_Learning_Customer_Prediction.ipynb\" target=\"_parent\"><img src=\"https://colab.research.google.com/assets/colab-badge.svg\" alt=\"Open In Colab\"/></a>"
      ]
    },
    {
      "cell_type": "markdown",
      "id": "southwest-subsection",
      "metadata": {
        "papermill": {
          "duration": 0.05582,
          "end_time": "2022-02-02T16:49:47.152419",
          "exception": false,
          "start_time": "2022-02-02T16:49:47.096599",
          "status": "completed"
        },
        "tags": [],
        "id": "southwest-subsection"
      },
      "source": [
        "## Importing libraries"
      ]
    },
    {
      "cell_type": "code",
      "execution_count": null,
      "id": "paperback-garlic",
      "metadata": {
        "execution": {
          "iopub.execute_input": "2022-02-02T16:49:47.269136Z",
          "iopub.status.busy": "2022-02-02T16:49:47.267956Z",
          "iopub.status.idle": "2022-02-02T16:49:48.218061Z",
          "shell.execute_reply": "2022-02-02T16:49:48.217269Z",
          "shell.execute_reply.started": "2022-02-02T16:47:26.698385Z"
        },
        "papermill": {
          "duration": 1.00983,
          "end_time": "2022-02-02T16:49:48.218235",
          "exception": false,
          "start_time": "2022-02-02T16:49:47.208405",
          "status": "completed"
        },
        "tags": [],
        "id": "paperback-garlic"
      },
      "outputs": [],
      "source": [
        "import pandas as pd\n",
        "import numpy as np\n",
        "import matplotlib.pyplot as plt\n",
        "import seaborn as sns\n",
        "%matplotlib inline"
      ]
    },
    {
      "cell_type": "code",
      "source": [
        "from google.colab import drive\n",
        "drive.mount('/content/drive')"
      ],
      "metadata": {
        "colab": {
          "base_uri": "https://localhost:8080/"
        },
        "id": "xIri6zysr4Ek",
        "outputId": "6f486a37-c470-4760-a8c8-defdaa4c5f50"
      },
      "id": "xIri6zysr4Ek",
      "execution_count": null,
      "outputs": [
        {
          "output_type": "stream",
          "name": "stdout",
          "text": [
            "Mounted at /content/drive\n"
          ]
        }
      ]
    },
    {
      "cell_type": "markdown",
      "source": [
        "Data dapat diakases melalui : https://drive.google.com/drive/folders/14G18ZHcBNB1eQvni1TxnFa6wrKVOhD7b?usp=sharing"
      ],
      "metadata": {
        "id": "4vnMs4m9n7xT"
      },
      "id": "4vnMs4m9n7xT"
    },
    {
      "cell_type": "markdown",
      "id": "wrong-lindsay",
      "metadata": {
        "papermill": {
          "duration": 0.058006,
          "end_time": "2022-02-02T16:49:48.332606",
          "exception": false,
          "start_time": "2022-02-02T16:49:48.274600",
          "status": "completed"
        },
        "tags": [],
        "id": "wrong-lindsay"
      },
      "source": [
        "## Exploratory Data Analysis"
      ]
    },
    {
      "cell_type": "code",
      "execution_count": null,
      "id": "accomplished-olive",
      "metadata": {
        "execution": {
          "iopub.execute_input": "2022-02-02T16:49:48.450217Z",
          "iopub.status.busy": "2022-02-02T16:49:48.449506Z",
          "iopub.status.idle": "2022-02-02T16:49:48.484692Z",
          "shell.execute_reply": "2022-02-02T16:49:48.483907Z",
          "shell.execute_reply.started": "2022-02-02T16:47:27.561326Z"
        },
        "papermill": {
          "duration": 0.093976,
          "end_time": "2022-02-02T16:49:48.484906",
          "exception": false,
          "start_time": "2022-02-02T16:49:48.390930",
          "status": "completed"
        },
        "tags": [],
        "id": "accomplished-olive"
      },
      "outputs": [],
      "source": [
        "#Sesuaikan dengan dimana kamu meletakan datanya(terdapat dua data yang di upload)\n",
        "# reading train data\n",
        "train=pd.read_csv('/content/drive/MyDrive/data_latihan/titanic-train.csv')\n",
        "\n",
        "# reading test data\n",
        "test=pd.read_csv('/content/drive/MyDrive/data_latihan/titanic-test.csv')"
      ]
    },
    {
      "cell_type": "code",
      "execution_count": null,
      "id": "balanced-variance",
      "metadata": {
        "execution": {
          "iopub.execute_input": "2022-02-02T16:49:48.606144Z",
          "iopub.status.busy": "2022-02-02T16:49:48.605400Z",
          "iopub.status.idle": "2022-02-02T16:49:48.646567Z",
          "shell.execute_reply": "2022-02-02T16:49:48.645849Z",
          "shell.execute_reply.started": "2022-02-02T16:47:27.591718Z"
        },
        "papermill": {
          "duration": 0.103444,
          "end_time": "2022-02-02T16:49:48.646733",
          "exception": false,
          "start_time": "2022-02-02T16:49:48.543289",
          "status": "completed"
        },
        "tags": [],
        "id": "balanced-variance",
        "outputId": "df867162-0d5d-40a4-bb70-f39dbc3ad4c8",
        "colab": {
          "base_uri": "https://localhost:8080/",
          "height": 206
        }
      },
      "outputs": [
        {
          "output_type": "execute_result",
          "data": {
            "text/plain": [
              "   PassengerId  Survived  Pclass  \\\n",
              "0            1         0       3   \n",
              "1            2         1       1   \n",
              "2            3         1       3   \n",
              "3            4         1       1   \n",
              "4            5         0       3   \n",
              "\n",
              "                                                Name     Sex   Age  SibSp  \\\n",
              "0                            Braund, Mr. Owen Harris    male  22.0      1   \n",
              "1  Cumings, Mrs. John Bradley (Florence Briggs Th...  female  38.0      1   \n",
              "2                             Heikkinen, Miss. Laina  female  26.0      0   \n",
              "3       Futrelle, Mrs. Jacques Heath (Lily May Peel)  female  35.0      1   \n",
              "4                           Allen, Mr. William Henry    male  35.0      0   \n",
              "\n",
              "   Parch            Ticket     Fare Cabin Embarked  \n",
              "0      0         A/5 21171   7.2500   NaN        S  \n",
              "1      0          PC 17599  71.2833   C85        C  \n",
              "2      0  STON/O2. 3101282   7.9250   NaN        S  \n",
              "3      0            113803  53.1000  C123        S  \n",
              "4      0            373450   8.0500   NaN        S  "
            ],
            "text/html": [
              "\n",
              "  <div id=\"df-cdbbaf33-89c2-424b-a074-e6c8b7f9ba21\">\n",
              "    <div class=\"colab-df-container\">\n",
              "      <div>\n",
              "<style scoped>\n",
              "    .dataframe tbody tr th:only-of-type {\n",
              "        vertical-align: middle;\n",
              "    }\n",
              "\n",
              "    .dataframe tbody tr th {\n",
              "        vertical-align: top;\n",
              "    }\n",
              "\n",
              "    .dataframe thead th {\n",
              "        text-align: right;\n",
              "    }\n",
              "</style>\n",
              "<table border=\"1\" class=\"dataframe\">\n",
              "  <thead>\n",
              "    <tr style=\"text-align: right;\">\n",
              "      <th></th>\n",
              "      <th>PassengerId</th>\n",
              "      <th>Survived</th>\n",
              "      <th>Pclass</th>\n",
              "      <th>Name</th>\n",
              "      <th>Sex</th>\n",
              "      <th>Age</th>\n",
              "      <th>SibSp</th>\n",
              "      <th>Parch</th>\n",
              "      <th>Ticket</th>\n",
              "      <th>Fare</th>\n",
              "      <th>Cabin</th>\n",
              "      <th>Embarked</th>\n",
              "    </tr>\n",
              "  </thead>\n",
              "  <tbody>\n",
              "    <tr>\n",
              "      <th>0</th>\n",
              "      <td>1</td>\n",
              "      <td>0</td>\n",
              "      <td>3</td>\n",
              "      <td>Braund, Mr. Owen Harris</td>\n",
              "      <td>male</td>\n",
              "      <td>22.0</td>\n",
              "      <td>1</td>\n",
              "      <td>0</td>\n",
              "      <td>A/5 21171</td>\n",
              "      <td>7.2500</td>\n",
              "      <td>NaN</td>\n",
              "      <td>S</td>\n",
              "    </tr>\n",
              "    <tr>\n",
              "      <th>1</th>\n",
              "      <td>2</td>\n",
              "      <td>1</td>\n",
              "      <td>1</td>\n",
              "      <td>Cumings, Mrs. John Bradley (Florence Briggs Th...</td>\n",
              "      <td>female</td>\n",
              "      <td>38.0</td>\n",
              "      <td>1</td>\n",
              "      <td>0</td>\n",
              "      <td>PC 17599</td>\n",
              "      <td>71.2833</td>\n",
              "      <td>C85</td>\n",
              "      <td>C</td>\n",
              "    </tr>\n",
              "    <tr>\n",
              "      <th>2</th>\n",
              "      <td>3</td>\n",
              "      <td>1</td>\n",
              "      <td>3</td>\n",
              "      <td>Heikkinen, Miss. Laina</td>\n",
              "      <td>female</td>\n",
              "      <td>26.0</td>\n",
              "      <td>0</td>\n",
              "      <td>0</td>\n",
              "      <td>STON/O2. 3101282</td>\n",
              "      <td>7.9250</td>\n",
              "      <td>NaN</td>\n",
              "      <td>S</td>\n",
              "    </tr>\n",
              "    <tr>\n",
              "      <th>3</th>\n",
              "      <td>4</td>\n",
              "      <td>1</td>\n",
              "      <td>1</td>\n",
              "      <td>Futrelle, Mrs. Jacques Heath (Lily May Peel)</td>\n",
              "      <td>female</td>\n",
              "      <td>35.0</td>\n",
              "      <td>1</td>\n",
              "      <td>0</td>\n",
              "      <td>113803</td>\n",
              "      <td>53.1000</td>\n",
              "      <td>C123</td>\n",
              "      <td>S</td>\n",
              "    </tr>\n",
              "    <tr>\n",
              "      <th>4</th>\n",
              "      <td>5</td>\n",
              "      <td>0</td>\n",
              "      <td>3</td>\n",
              "      <td>Allen, Mr. William Henry</td>\n",
              "      <td>male</td>\n",
              "      <td>35.0</td>\n",
              "      <td>0</td>\n",
              "      <td>0</td>\n",
              "      <td>373450</td>\n",
              "      <td>8.0500</td>\n",
              "      <td>NaN</td>\n",
              "      <td>S</td>\n",
              "    </tr>\n",
              "  </tbody>\n",
              "</table>\n",
              "</div>\n",
              "      <button class=\"colab-df-convert\" onclick=\"convertToInteractive('df-cdbbaf33-89c2-424b-a074-e6c8b7f9ba21')\"\n",
              "              title=\"Convert this dataframe to an interactive table.\"\n",
              "              style=\"display:none;\">\n",
              "        \n",
              "  <svg xmlns=\"http://www.w3.org/2000/svg\" height=\"24px\"viewBox=\"0 0 24 24\"\n",
              "       width=\"24px\">\n",
              "    <path d=\"M0 0h24v24H0V0z\" fill=\"none\"/>\n",
              "    <path d=\"M18.56 5.44l.94 2.06.94-2.06 2.06-.94-2.06-.94-.94-2.06-.94 2.06-2.06.94zm-11 1L8.5 8.5l.94-2.06 2.06-.94-2.06-.94L8.5 2.5l-.94 2.06-2.06.94zm10 10l.94 2.06.94-2.06 2.06-.94-2.06-.94-.94-2.06-.94 2.06-2.06.94z\"/><path d=\"M17.41 7.96l-1.37-1.37c-.4-.4-.92-.59-1.43-.59-.52 0-1.04.2-1.43.59L10.3 9.45l-7.72 7.72c-.78.78-.78 2.05 0 2.83L4 21.41c.39.39.9.59 1.41.59.51 0 1.02-.2 1.41-.59l7.78-7.78 2.81-2.81c.8-.78.8-2.07 0-2.86zM5.41 20L4 18.59l7.72-7.72 1.47 1.35L5.41 20z\"/>\n",
              "  </svg>\n",
              "      </button>\n",
              "      \n",
              "  <style>\n",
              "    .colab-df-container {\n",
              "      display:flex;\n",
              "      flex-wrap:wrap;\n",
              "      gap: 12px;\n",
              "    }\n",
              "\n",
              "    .colab-df-convert {\n",
              "      background-color: #E8F0FE;\n",
              "      border: none;\n",
              "      border-radius: 50%;\n",
              "      cursor: pointer;\n",
              "      display: none;\n",
              "      fill: #1967D2;\n",
              "      height: 32px;\n",
              "      padding: 0 0 0 0;\n",
              "      width: 32px;\n",
              "    }\n",
              "\n",
              "    .colab-df-convert:hover {\n",
              "      background-color: #E2EBFA;\n",
              "      box-shadow: 0px 1px 2px rgba(60, 64, 67, 0.3), 0px 1px 3px 1px rgba(60, 64, 67, 0.15);\n",
              "      fill: #174EA6;\n",
              "    }\n",
              "\n",
              "    [theme=dark] .colab-df-convert {\n",
              "      background-color: #3B4455;\n",
              "      fill: #D2E3FC;\n",
              "    }\n",
              "\n",
              "    [theme=dark] .colab-df-convert:hover {\n",
              "      background-color: #434B5C;\n",
              "      box-shadow: 0px 1px 3px 1px rgba(0, 0, 0, 0.15);\n",
              "      filter: drop-shadow(0px 1px 2px rgba(0, 0, 0, 0.3));\n",
              "      fill: #FFFFFF;\n",
              "    }\n",
              "  </style>\n",
              "\n",
              "      <script>\n",
              "        const buttonEl =\n",
              "          document.querySelector('#df-cdbbaf33-89c2-424b-a074-e6c8b7f9ba21 button.colab-df-convert');\n",
              "        buttonEl.style.display =\n",
              "          google.colab.kernel.accessAllowed ? 'block' : 'none';\n",
              "\n",
              "        async function convertToInteractive(key) {\n",
              "          const element = document.querySelector('#df-cdbbaf33-89c2-424b-a074-e6c8b7f9ba21');\n",
              "          const dataTable =\n",
              "            await google.colab.kernel.invokeFunction('convertToInteractive',\n",
              "                                                     [key], {});\n",
              "          if (!dataTable) return;\n",
              "\n",
              "          const docLinkHtml = 'Like what you see? Visit the ' +\n",
              "            '<a target=\"_blank\" href=https://colab.research.google.com/notebooks/data_table.ipynb>data table notebook</a>'\n",
              "            + ' to learn more about interactive tables.';\n",
              "          element.innerHTML = '';\n",
              "          dataTable['output_type'] = 'display_data';\n",
              "          await google.colab.output.renderOutput(dataTable, element);\n",
              "          const docLink = document.createElement('div');\n",
              "          docLink.innerHTML = docLinkHtml;\n",
              "          element.appendChild(docLink);\n",
              "        }\n",
              "      </script>\n",
              "    </div>\n",
              "  </div>\n",
              "  "
            ]
          },
          "metadata": {},
          "execution_count": 4
        }
      ],
      "source": [
        "# printing first five rows of the data set\n",
        "train.head()"
      ]
    },
    {
      "cell_type": "code",
      "execution_count": null,
      "id": "single-hacker",
      "metadata": {
        "execution": {
          "iopub.execute_input": "2022-02-02T16:49:48.768608Z",
          "iopub.status.busy": "2022-02-02T16:49:48.767890Z",
          "iopub.status.idle": "2022-02-02T16:49:48.771131Z",
          "shell.execute_reply": "2022-02-02T16:49:48.771626Z",
          "shell.execute_reply.started": "2022-02-02T16:47:27.626027Z"
        },
        "papermill": {
          "duration": 0.067419,
          "end_time": "2022-02-02T16:49:48.771820",
          "exception": false,
          "start_time": "2022-02-02T16:49:48.704401",
          "status": "completed"
        },
        "tags": [],
        "id": "single-hacker",
        "outputId": "da2cfe66-6a9c-450c-8d20-e08cbcfdf558",
        "colab": {
          "base_uri": "https://localhost:8080/"
        }
      },
      "outputs": [
        {
          "output_type": "execute_result",
          "data": {
            "text/plain": [
              "(891, 12)"
            ]
          },
          "metadata": {},
          "execution_count": 5
        }
      ],
      "source": [
        "# number of rows and columns\n",
        "train.shape"
      ]
    },
    {
      "cell_type": "code",
      "source": [
        "# info of dataframe\n",
        "train.info()"
      ],
      "metadata": {
        "colab": {
          "base_uri": "https://localhost:8080/"
        },
        "id": "Udk8IY_ysUXP",
        "outputId": "077fa921-055f-48fe-db21-807d9f52a21f"
      },
      "id": "Udk8IY_ysUXP",
      "execution_count": null,
      "outputs": [
        {
          "output_type": "stream",
          "name": "stdout",
          "text": [
            "<class 'pandas.core.frame.DataFrame'>\n",
            "RangeIndex: 891 entries, 0 to 890\n",
            "Data columns (total 12 columns):\n",
            " #   Column       Non-Null Count  Dtype  \n",
            "---  ------       --------------  -----  \n",
            " 0   PassengerId  891 non-null    int64  \n",
            " 1   Survived     891 non-null    int64  \n",
            " 2   Pclass       891 non-null    int64  \n",
            " 3   Name         891 non-null    object \n",
            " 4   Sex          891 non-null    object \n",
            " 5   Age          714 non-null    float64\n",
            " 6   SibSp        891 non-null    int64  \n",
            " 7   Parch        891 non-null    int64  \n",
            " 8   Ticket       891 non-null    object \n",
            " 9   Fare         891 non-null    float64\n",
            " 10  Cabin        204 non-null    object \n",
            " 11  Embarked     889 non-null    object \n",
            "dtypes: float64(2), int64(5), object(5)\n",
            "memory usage: 83.7+ KB\n"
          ]
        }
      ]
    },
    {
      "cell_type": "code",
      "execution_count": null,
      "id": "southwest-interface",
      "metadata": {
        "execution": {
          "iopub.execute_input": "2022-02-02T16:49:49.017937Z",
          "iopub.status.busy": "2022-02-02T16:49:49.017234Z",
          "iopub.status.idle": "2022-02-02T16:49:49.026835Z",
          "shell.execute_reply": "2022-02-02T16:49:49.027328Z",
          "shell.execute_reply.started": "2022-02-02T16:47:27.646318Z"
        },
        "papermill": {
          "duration": 0.070738,
          "end_time": "2022-02-02T16:49:49.027529",
          "exception": false,
          "start_time": "2022-02-02T16:49:48.956791",
          "status": "completed"
        },
        "scrolled": true,
        "tags": [],
        "id": "southwest-interface",
        "outputId": "b765537c-c057-4fb6-e32b-b02cb38f306a",
        "colab": {
          "base_uri": "https://localhost:8080/"
        }
      },
      "outputs": [
        {
          "output_type": "execute_result",
          "data": {
            "text/plain": [
              "PassengerId      0\n",
              "Survived         0\n",
              "Pclass           0\n",
              "Name             0\n",
              "Sex              0\n",
              "Age            177\n",
              "SibSp            0\n",
              "Parch            0\n",
              "Ticket           0\n",
              "Fare             0\n",
              "Cabin          687\n",
              "Embarked         2\n",
              "dtype: int64"
            ]
          },
          "metadata": {},
          "execution_count": 7
        }
      ],
      "source": [
        "# number of null values in dataset\n",
        "train.isnull().sum()"
      ]
    },
    {
      "cell_type": "code",
      "source": [
        "# return dataframe that contains information of train data\n",
        "listItem = []\n",
        "for col in train.columns :\n",
        "    listItem.append([col, train[col].dtype, train[col].isna().sum(), round((train[col].isna().sum()/len(train[col])) * 100,2),\n",
        "                    train[col].nunique(), list(train[col].drop_duplicates().values)])"
      ],
      "metadata": {
        "id": "dylMXCNLxrJr"
      },
      "id": "dylMXCNLxrJr",
      "execution_count": null,
      "outputs": []
    },
    {
      "cell_type": "code",
      "source": [
        "listItem[1:3]"
      ],
      "metadata": {
        "colab": {
          "base_uri": "https://localhost:8080/"
        },
        "id": "cOVNVptLIaxT",
        "outputId": "de9cdf50-7ed1-401f-e075-ae8090260721"
      },
      "id": "cOVNVptLIaxT",
      "execution_count": null,
      "outputs": [
        {
          "output_type": "execute_result",
          "data": {
            "text/plain": [
              "[['Survived', dtype('int64'), 0, 0.0, 2, [0, 1]],\n",
              " ['Pclass', dtype('int64'), 0, 0.0, 3, [3, 1, 2]]]"
            ]
          },
          "metadata": {},
          "execution_count": 9
        }
      ]
    },
    {
      "cell_type": "code",
      "source": [
        "dfDesc = pd.DataFrame(columns=['dataFeatures', 'dataType', 'null', 'nullPct', 'unique', 'uniqueSample'],\n",
        "                     data=listItem)\n",
        "dfDesc"
      ],
      "metadata": {
        "colab": {
          "base_uri": "https://localhost:8080/",
          "height": 426
        },
        "id": "6Z-HrJP9HxTx",
        "outputId": "b1ef6212-6fcd-465f-d810-69c3b2b07951"
      },
      "id": "6Z-HrJP9HxTx",
      "execution_count": null,
      "outputs": [
        {
          "output_type": "execute_result",
          "data": {
            "text/plain": [
              "   dataFeatures dataType  null  nullPct  unique  \\\n",
              "0   PassengerId    int64     0     0.00     891   \n",
              "1      Survived    int64     0     0.00       2   \n",
              "2        Pclass    int64     0     0.00       3   \n",
              "3          Name   object     0     0.00     891   \n",
              "4           Sex   object     0     0.00       2   \n",
              "5           Age  float64   177    19.87      88   \n",
              "6         SibSp    int64     0     0.00       7   \n",
              "7         Parch    int64     0     0.00       7   \n",
              "8        Ticket   object     0     0.00     681   \n",
              "9          Fare  float64     0     0.00     248   \n",
              "10        Cabin   object   687    77.10     147   \n",
              "11     Embarked   object     2     0.22       3   \n",
              "\n",
              "                                         uniqueSample  \n",
              "0   [1, 2, 3, 4, 5, 6, 7, 8, 9, 10, 11, 12, 13, 14...  \n",
              "1                                              [0, 1]  \n",
              "2                                           [3, 1, 2]  \n",
              "3   [Braund, Mr. Owen Harris, Cumings, Mrs. John B...  \n",
              "4                                      [male, female]  \n",
              "5   [22.0, 38.0, 26.0, 35.0, nan, 54.0, 2.0, 27.0,...  \n",
              "6                               [1, 0, 3, 4, 2, 5, 8]  \n",
              "7                               [0, 1, 2, 5, 3, 4, 6]  \n",
              "8   [A/5 21171, PC 17599, STON/O2. 3101282, 113803...  \n",
              "9   [7.25, 71.2833, 7.925, 53.1, 8.05, 8.4583, 51....  \n",
              "10  [nan, C85, C123, E46, G6, C103, D56, A6, C23 C...  \n",
              "11                                     [S, C, Q, nan]  "
            ],
            "text/html": [
              "\n",
              "  <div id=\"df-5fff98be-f49b-4c6d-b331-20e42c1ea1bd\">\n",
              "    <div class=\"colab-df-container\">\n",
              "      <div>\n",
              "<style scoped>\n",
              "    .dataframe tbody tr th:only-of-type {\n",
              "        vertical-align: middle;\n",
              "    }\n",
              "\n",
              "    .dataframe tbody tr th {\n",
              "        vertical-align: top;\n",
              "    }\n",
              "\n",
              "    .dataframe thead th {\n",
              "        text-align: right;\n",
              "    }\n",
              "</style>\n",
              "<table border=\"1\" class=\"dataframe\">\n",
              "  <thead>\n",
              "    <tr style=\"text-align: right;\">\n",
              "      <th></th>\n",
              "      <th>dataFeatures</th>\n",
              "      <th>dataType</th>\n",
              "      <th>null</th>\n",
              "      <th>nullPct</th>\n",
              "      <th>unique</th>\n",
              "      <th>uniqueSample</th>\n",
              "    </tr>\n",
              "  </thead>\n",
              "  <tbody>\n",
              "    <tr>\n",
              "      <th>0</th>\n",
              "      <td>PassengerId</td>\n",
              "      <td>int64</td>\n",
              "      <td>0</td>\n",
              "      <td>0.00</td>\n",
              "      <td>891</td>\n",
              "      <td>[1, 2, 3, 4, 5, 6, 7, 8, 9, 10, 11, 12, 13, 14...</td>\n",
              "    </tr>\n",
              "    <tr>\n",
              "      <th>1</th>\n",
              "      <td>Survived</td>\n",
              "      <td>int64</td>\n",
              "      <td>0</td>\n",
              "      <td>0.00</td>\n",
              "      <td>2</td>\n",
              "      <td>[0, 1]</td>\n",
              "    </tr>\n",
              "    <tr>\n",
              "      <th>2</th>\n",
              "      <td>Pclass</td>\n",
              "      <td>int64</td>\n",
              "      <td>0</td>\n",
              "      <td>0.00</td>\n",
              "      <td>3</td>\n",
              "      <td>[3, 1, 2]</td>\n",
              "    </tr>\n",
              "    <tr>\n",
              "      <th>3</th>\n",
              "      <td>Name</td>\n",
              "      <td>object</td>\n",
              "      <td>0</td>\n",
              "      <td>0.00</td>\n",
              "      <td>891</td>\n",
              "      <td>[Braund, Mr. Owen Harris, Cumings, Mrs. John B...</td>\n",
              "    </tr>\n",
              "    <tr>\n",
              "      <th>4</th>\n",
              "      <td>Sex</td>\n",
              "      <td>object</td>\n",
              "      <td>0</td>\n",
              "      <td>0.00</td>\n",
              "      <td>2</td>\n",
              "      <td>[male, female]</td>\n",
              "    </tr>\n",
              "    <tr>\n",
              "      <th>5</th>\n",
              "      <td>Age</td>\n",
              "      <td>float64</td>\n",
              "      <td>177</td>\n",
              "      <td>19.87</td>\n",
              "      <td>88</td>\n",
              "      <td>[22.0, 38.0, 26.0, 35.0, nan, 54.0, 2.0, 27.0,...</td>\n",
              "    </tr>\n",
              "    <tr>\n",
              "      <th>6</th>\n",
              "      <td>SibSp</td>\n",
              "      <td>int64</td>\n",
              "      <td>0</td>\n",
              "      <td>0.00</td>\n",
              "      <td>7</td>\n",
              "      <td>[1, 0, 3, 4, 2, 5, 8]</td>\n",
              "    </tr>\n",
              "    <tr>\n",
              "      <th>7</th>\n",
              "      <td>Parch</td>\n",
              "      <td>int64</td>\n",
              "      <td>0</td>\n",
              "      <td>0.00</td>\n",
              "      <td>7</td>\n",
              "      <td>[0, 1, 2, 5, 3, 4, 6]</td>\n",
              "    </tr>\n",
              "    <tr>\n",
              "      <th>8</th>\n",
              "      <td>Ticket</td>\n",
              "      <td>object</td>\n",
              "      <td>0</td>\n",
              "      <td>0.00</td>\n",
              "      <td>681</td>\n",
              "      <td>[A/5 21171, PC 17599, STON/O2. 3101282, 113803...</td>\n",
              "    </tr>\n",
              "    <tr>\n",
              "      <th>9</th>\n",
              "      <td>Fare</td>\n",
              "      <td>float64</td>\n",
              "      <td>0</td>\n",
              "      <td>0.00</td>\n",
              "      <td>248</td>\n",
              "      <td>[7.25, 71.2833, 7.925, 53.1, 8.05, 8.4583, 51....</td>\n",
              "    </tr>\n",
              "    <tr>\n",
              "      <th>10</th>\n",
              "      <td>Cabin</td>\n",
              "      <td>object</td>\n",
              "      <td>687</td>\n",
              "      <td>77.10</td>\n",
              "      <td>147</td>\n",
              "      <td>[nan, C85, C123, E46, G6, C103, D56, A6, C23 C...</td>\n",
              "    </tr>\n",
              "    <tr>\n",
              "      <th>11</th>\n",
              "      <td>Embarked</td>\n",
              "      <td>object</td>\n",
              "      <td>2</td>\n",
              "      <td>0.22</td>\n",
              "      <td>3</td>\n",
              "      <td>[S, C, Q, nan]</td>\n",
              "    </tr>\n",
              "  </tbody>\n",
              "</table>\n",
              "</div>\n",
              "      <button class=\"colab-df-convert\" onclick=\"convertToInteractive('df-5fff98be-f49b-4c6d-b331-20e42c1ea1bd')\"\n",
              "              title=\"Convert this dataframe to an interactive table.\"\n",
              "              style=\"display:none;\">\n",
              "        \n",
              "  <svg xmlns=\"http://www.w3.org/2000/svg\" height=\"24px\"viewBox=\"0 0 24 24\"\n",
              "       width=\"24px\">\n",
              "    <path d=\"M0 0h24v24H0V0z\" fill=\"none\"/>\n",
              "    <path d=\"M18.56 5.44l.94 2.06.94-2.06 2.06-.94-2.06-.94-.94-2.06-.94 2.06-2.06.94zm-11 1L8.5 8.5l.94-2.06 2.06-.94-2.06-.94L8.5 2.5l-.94 2.06-2.06.94zm10 10l.94 2.06.94-2.06 2.06-.94-2.06-.94-.94-2.06-.94 2.06-2.06.94z\"/><path d=\"M17.41 7.96l-1.37-1.37c-.4-.4-.92-.59-1.43-.59-.52 0-1.04.2-1.43.59L10.3 9.45l-7.72 7.72c-.78.78-.78 2.05 0 2.83L4 21.41c.39.39.9.59 1.41.59.51 0 1.02-.2 1.41-.59l7.78-7.78 2.81-2.81c.8-.78.8-2.07 0-2.86zM5.41 20L4 18.59l7.72-7.72 1.47 1.35L5.41 20z\"/>\n",
              "  </svg>\n",
              "      </button>\n",
              "      \n",
              "  <style>\n",
              "    .colab-df-container {\n",
              "      display:flex;\n",
              "      flex-wrap:wrap;\n",
              "      gap: 12px;\n",
              "    }\n",
              "\n",
              "    .colab-df-convert {\n",
              "      background-color: #E8F0FE;\n",
              "      border: none;\n",
              "      border-radius: 50%;\n",
              "      cursor: pointer;\n",
              "      display: none;\n",
              "      fill: #1967D2;\n",
              "      height: 32px;\n",
              "      padding: 0 0 0 0;\n",
              "      width: 32px;\n",
              "    }\n",
              "\n",
              "    .colab-df-convert:hover {\n",
              "      background-color: #E2EBFA;\n",
              "      box-shadow: 0px 1px 2px rgba(60, 64, 67, 0.3), 0px 1px 3px 1px rgba(60, 64, 67, 0.15);\n",
              "      fill: #174EA6;\n",
              "    }\n",
              "\n",
              "    [theme=dark] .colab-df-convert {\n",
              "      background-color: #3B4455;\n",
              "      fill: #D2E3FC;\n",
              "    }\n",
              "\n",
              "    [theme=dark] .colab-df-convert:hover {\n",
              "      background-color: #434B5C;\n",
              "      box-shadow: 0px 1px 3px 1px rgba(0, 0, 0, 0.15);\n",
              "      filter: drop-shadow(0px 1px 2px rgba(0, 0, 0, 0.3));\n",
              "      fill: #FFFFFF;\n",
              "    }\n",
              "  </style>\n",
              "\n",
              "      <script>\n",
              "        const buttonEl =\n",
              "          document.querySelector('#df-5fff98be-f49b-4c6d-b331-20e42c1ea1bd button.colab-df-convert');\n",
              "        buttonEl.style.display =\n",
              "          google.colab.kernel.accessAllowed ? 'block' : 'none';\n",
              "\n",
              "        async function convertToInteractive(key) {\n",
              "          const element = document.querySelector('#df-5fff98be-f49b-4c6d-b331-20e42c1ea1bd');\n",
              "          const dataTable =\n",
              "            await google.colab.kernel.invokeFunction('convertToInteractive',\n",
              "                                                     [key], {});\n",
              "          if (!dataTable) return;\n",
              "\n",
              "          const docLinkHtml = 'Like what you see? Visit the ' +\n",
              "            '<a target=\"_blank\" href=https://colab.research.google.com/notebooks/data_table.ipynb>data table notebook</a>'\n",
              "            + ' to learn more about interactive tables.';\n",
              "          element.innerHTML = '';\n",
              "          dataTable['output_type'] = 'display_data';\n",
              "          await google.colab.output.renderOutput(dataTable, element);\n",
              "          const docLink = document.createElement('div');\n",
              "          docLink.innerHTML = docLinkHtml;\n",
              "          element.appendChild(docLink);\n",
              "        }\n",
              "      </script>\n",
              "    </div>\n",
              "  </div>\n",
              "  "
            ]
          },
          "metadata": {},
          "execution_count": 10
        }
      ]
    },
    {
      "cell_type": "code",
      "source": [
        "print('count of Survived')\n",
        "print(train['Survived'].value_counts())\n",
        "print('% of Survived')\n",
        "print(train['Survived'].value_counts(normalize=True)*100)"
      ],
      "metadata": {
        "colab": {
          "base_uri": "https://localhost:8080/"
        },
        "id": "NzFNz9oj2Pld",
        "outputId": "57628d23-1d16-4b42-8291-0d35f2e46cff"
      },
      "id": "NzFNz9oj2Pld",
      "execution_count": null,
      "outputs": [
        {
          "output_type": "stream",
          "name": "stdout",
          "text": [
            "count of Survived\n",
            "0    549\n",
            "1    342\n",
            "Name: Survived, dtype: int64\n",
            "% of Survived\n",
            "0    61.616162\n",
            "1    38.383838\n",
            "Name: Survived, dtype: float64\n"
          ]
        }
      ]
    },
    {
      "cell_type": "code",
      "source": [
        "# countplot\n",
        "sns.countplot(x='Survived', data=train)"
      ],
      "metadata": {
        "colab": {
          "base_uri": "https://localhost:8080/",
          "height": 296
        },
        "id": "3tI33hhr27xd",
        "outputId": "e3a86401-161b-43e8-95b7-a38bacd0b64c"
      },
      "id": "3tI33hhr27xd",
      "execution_count": null,
      "outputs": [
        {
          "output_type": "execute_result",
          "data": {
            "text/plain": [
              "<matplotlib.axes._subplots.AxesSubplot at 0x7f2213221280>"
            ]
          },
          "metadata": {},
          "execution_count": 12
        },
        {
          "output_type": "display_data",
          "data": {
            "text/plain": [
              "<Figure size 432x288 with 1 Axes>"
            ],
            "image/png": "[encoded data removed]"
          },
          "metadata": {
            "needs_background": "light"
          }
        }
      ]
    },
    {
      "cell_type": "code",
      "execution_count": null,
      "id": "rational-discretion",
      "metadata": {
        "execution": {
          "iopub.execute_input": "2022-02-02T16:49:49.158485Z",
          "iopub.status.busy": "2022-02-02T16:49:49.157597Z",
          "iopub.status.idle": "2022-02-02T16:49:49.160949Z",
          "shell.execute_reply": "2022-02-02T16:49:49.161469Z",
          "shell.execute_reply.started": "2022-02-02T16:47:27.663219Z"
        },
        "papermill": {
          "duration": 0.074467,
          "end_time": "2022-02-02T16:49:49.161659",
          "exception": false,
          "start_time": "2022-02-02T16:49:49.087192",
          "status": "completed"
        },
        "scrolled": true,
        "tags": [],
        "id": "rational-discretion",
        "outputId": "a1c17bd3-098a-4679-a2a4-65c5ff5b8277",
        "colab": {
          "base_uri": "https://localhost:8080/"
        }
      },
      "outputs": [
        {
          "output_type": "stream",
          "name": "stdout",
          "text": [
            "count of sex\n",
            "male      577\n",
            "female    314\n",
            "Name: Sex, dtype: int64\n",
            "% of Sex\n",
            "male      64.758698\n",
            "female    35.241302\n",
            "Name: Sex, dtype: float64\n"
          ]
        }
      ],
      "source": [
        "print('count of sex')\n",
        "print(train['Sex'].value_counts())\n",
        "print('% of Sex')\n",
        "print(train['Sex'].value_counts(normalize=True)*100)"
      ]
    },
    {
      "cell_type": "code",
      "execution_count": null,
      "id": "mysterious-tablet",
      "metadata": {
        "execution": {
          "iopub.execute_input": "2022-02-02T16:49:49.290132Z",
          "iopub.status.busy": "2022-02-02T16:49:49.289420Z",
          "iopub.status.idle": "2022-02-02T16:49:49.448563Z",
          "shell.execute_reply": "2022-02-02T16:49:49.448019Z",
          "shell.execute_reply.started": "2022-02-02T16:47:27.676816Z"
        },
        "papermill": {
          "duration": 0.226958,
          "end_time": "2022-02-02T16:49:49.448743",
          "exception": false,
          "start_time": "2022-02-02T16:49:49.221785",
          "status": "completed"
        },
        "tags": [],
        "id": "mysterious-tablet",
        "outputId": "6e016a76-9ace-4a59-f2d0-075c0322e00d",
        "colab": {
          "base_uri": "https://localhost:8080/",
          "height": 298
        }
      },
      "outputs": [
        {
          "output_type": "execute_result",
          "data": {
            "text/plain": [
              "<matplotlib.axes._subplots.AxesSubplot at 0x7f221317ba30>"
            ]
          },
          "metadata": {},
          "execution_count": 14
        },
        {
          "output_type": "display_data",
          "data": {
            "text/plain": [
              "<Figure size 432x288 with 1 Axes>"
            ],
            "image/png": "[encoded data removed]"
          },
          "metadata": {
            "needs_background": "light"
          }
        }
      ],
      "source": [
        "# countplot\n",
        "sns.countplot(x='Sex', data=train)"
      ]
    },
    {
      "cell_type": "code",
      "execution_count": null,
      "id": "mexican-rachel",
      "metadata": {
        "execution": {
          "iopub.execute_input": "2022-02-02T16:49:49.571964Z",
          "iopub.status.busy": "2022-02-02T16:49:49.570370Z",
          "iopub.status.idle": "2022-02-02T16:49:49.576782Z",
          "shell.execute_reply": "2022-02-02T16:49:49.577266Z",
          "shell.execute_reply.started": "2022-02-02T16:47:27.835546Z"
        },
        "papermill": {
          "duration": 0.070146,
          "end_time": "2022-02-02T16:49:49.577476",
          "exception": false,
          "start_time": "2022-02-02T16:49:49.507330",
          "status": "completed"
        },
        "tags": [],
        "id": "mexican-rachel",
        "outputId": "65631b08-a89a-4c18-8a3b-b479176c9d9d",
        "colab": {
          "base_uri": "https://localhost:8080/"
        }
      },
      "outputs": [
        {
          "output_type": "stream",
          "name": "stdout",
          "text": [
            "count of Pclass\n",
            "3    491\n",
            "1    216\n",
            "2    184\n",
            "Name: Pclass, dtype: int64\n",
            "% of Pclass\n",
            "3    55.106622\n",
            "1    24.242424\n",
            "2    20.650954\n",
            "Name: Pclass, dtype: float64\n"
          ]
        }
      ],
      "source": [
        "print('count of Pclass')\n",
        "print(train['Pclass'].value_counts())\n",
        "print('% of Pclass')\n",
        "print(train['Pclass'].value_counts(normalize=True)*100)"
      ]
    },
    {
      "cell_type": "code",
      "execution_count": null,
      "id": "double-partition",
      "metadata": {
        "execution": {
          "iopub.execute_input": "2022-02-02T16:49:49.705242Z",
          "iopub.status.busy": "2022-02-02T16:49:49.704282Z",
          "iopub.status.idle": "2022-02-02T16:49:49.825352Z",
          "shell.execute_reply": "2022-02-02T16:49:49.826060Z",
          "shell.execute_reply.started": "2022-02-02T16:47:27.846010Z"
        },
        "papermill": {
          "duration": 0.188,
          "end_time": "2022-02-02T16:49:49.826297",
          "exception": false,
          "start_time": "2022-02-02T16:49:49.638297",
          "status": "completed"
        },
        "tags": [],
        "id": "double-partition",
        "outputId": "7e944779-9558-412f-e7ba-324398da9756",
        "colab": {
          "base_uri": "https://localhost:8080/",
          "height": 296
        }
      },
      "outputs": [
        {
          "output_type": "execute_result",
          "data": {
            "text/plain": [
              "<matplotlib.axes._subplots.AxesSubplot at 0x7f2212c85d60>"
            ]
          },
          "metadata": {},
          "execution_count": 16
        },
        {
          "output_type": "display_data",
          "data": {
            "text/plain": [
              "<Figure size 432x288 with 1 Axes>"
            ],
            "image/png": "[encoded data removed]"
          },
          "metadata": {
            "needs_background": "light"
          }
        }
      ],
      "source": [
        "sns.countplot(x='Pclass', data=train)"
      ]
    },
    {
      "cell_type": "code",
      "execution_count": null,
      "id": "residential-vehicle",
      "metadata": {
        "execution": {
          "iopub.execute_input": "2022-02-02T16:49:49.953182Z",
          "iopub.status.busy": "2022-02-02T16:49:49.952446Z",
          "iopub.status.idle": "2022-02-02T16:49:49.961780Z",
          "shell.execute_reply": "2022-02-02T16:49:49.962347Z",
          "shell.execute_reply.started": "2022-02-02T16:47:27.971648Z"
        },
        "papermill": {
          "duration": 0.073174,
          "end_time": "2022-02-02T16:49:49.962565",
          "exception": false,
          "start_time": "2022-02-02T16:49:49.889391",
          "status": "completed"
        },
        "scrolled": true,
        "tags": [],
        "id": "residential-vehicle",
        "outputId": "128bca28-bc32-4a43-a549-df3d2db35f59",
        "colab": {
          "base_uri": "https://localhost:8080/"
        }
      },
      "outputs": [
        {
          "output_type": "stream",
          "name": "stdout",
          "text": [
            "count of Embarked\n",
            "S    644\n",
            "C    168\n",
            "Q     77\n",
            "Name: Embarked, dtype: int64\n",
            "% of Embarked\n",
            "S    72.440945\n",
            "C    18.897638\n",
            "Q     8.661417\n",
            "Name: Embarked, dtype: float64\n"
          ]
        }
      ],
      "source": [
        "print('count of Embarked')\n",
        "print(train['Embarked'].value_counts())\n",
        "print('% of Embarked')\n",
        "print(train['Embarked'].value_counts(normalize=True)*100)"
      ]
    },
    {
      "cell_type": "code",
      "execution_count": null,
      "id": "premier-finance",
      "metadata": {
        "execution": {
          "iopub.execute_input": "2022-02-02T16:49:50.093959Z",
          "iopub.status.busy": "2022-02-02T16:49:50.093268Z",
          "iopub.status.idle": "2022-02-02T16:49:50.224933Z",
          "shell.execute_reply": "2022-02-02T16:49:50.224168Z",
          "shell.execute_reply.started": "2022-02-02T16:47:27.982517Z"
        },
        "papermill": {
          "duration": 0.198769,
          "end_time": "2022-02-02T16:49:50.225087",
          "exception": false,
          "start_time": "2022-02-02T16:49:50.026318",
          "status": "completed"
        },
        "scrolled": true,
        "tags": [],
        "id": "premier-finance",
        "outputId": "81cfef4e-d9e1-4f37-c9cf-73af28dab483",
        "colab": {
          "base_uri": "https://localhost:8080/",
          "height": 296
        }
      },
      "outputs": [
        {
          "output_type": "execute_result",
          "data": {
            "text/plain": [
              "<matplotlib.axes._subplots.AxesSubplot at 0x7f2212c5e700>"
            ]
          },
          "metadata": {},
          "execution_count": 18
        },
        {
          "output_type": "display_data",
          "data": {
            "text/plain": [
              "<Figure size 432x288 with 1 Axes>"
            ],
            "image/png": "[encoded data removed]"
          },
          "metadata": {
            "needs_background": "light"
          }
        }
      ],
      "source": [
        "sns.countplot(x='Embarked', data=train)"
      ]
    },
    {
      "cell_type": "code",
      "execution_count": null,
      "id": "exact-uncertainty",
      "metadata": {
        "execution": {
          "iopub.execute_input": "2022-02-02T16:49:50.351405Z",
          "iopub.status.busy": "2022-02-02T16:49:50.350689Z",
          "iopub.status.idle": "2022-02-02T16:49:50.358097Z",
          "shell.execute_reply": "2022-02-02T16:49:50.357389Z",
          "shell.execute_reply.started": "2022-02-02T16:47:28.112021Z"
        },
        "papermill": {
          "duration": 0.072403,
          "end_time": "2022-02-02T16:49:50.358251",
          "exception": false,
          "start_time": "2022-02-02T16:49:50.285848",
          "status": "completed"
        },
        "scrolled": true,
        "tags": [],
        "id": "exact-uncertainty",
        "outputId": "0bc20811-4e40-4369-f575-bc57a923463f",
        "colab": {
          "base_uri": "https://localhost:8080/"
        }
      },
      "outputs": [
        {
          "output_type": "stream",
          "name": "stdout",
          "text": [
            "count of SibSp\n",
            "0    608\n",
            "1    209\n",
            "2     28\n",
            "4     18\n",
            "3     16\n",
            "8      7\n",
            "5      5\n",
            "Name: SibSp, dtype: int64\n",
            "% of SibSp\n",
            "0    68.237935\n",
            "1    23.456790\n",
            "2     3.142536\n",
            "4     2.020202\n",
            "3     1.795735\n",
            "8     0.785634\n",
            "5     0.561167\n",
            "Name: SibSp, dtype: float64\n"
          ]
        }
      ],
      "source": [
        "print('count of SibSp')\n",
        "print(train['SibSp'].value_counts())\n",
        "print('% of SibSp')\n",
        "print(train['SibSp'].value_counts(normalize=True)*100)"
      ]
    },
    {
      "cell_type": "code",
      "execution_count": null,
      "id": "fabulous-berkeley",
      "metadata": {
        "execution": {
          "iopub.execute_input": "2022-02-02T16:49:50.489085Z",
          "iopub.status.busy": "2022-02-02T16:49:50.488063Z",
          "iopub.status.idle": "2022-02-02T16:49:50.643393Z",
          "shell.execute_reply": "2022-02-02T16:49:50.642548Z",
          "shell.execute_reply.started": "2022-02-02T16:47:28.124562Z"
        },
        "papermill": {
          "duration": 0.223644,
          "end_time": "2022-02-02T16:49:50.643561",
          "exception": false,
          "start_time": "2022-02-02T16:49:50.419917",
          "status": "completed"
        },
        "tags": [],
        "id": "fabulous-berkeley",
        "outputId": "990bf366-83af-4b60-a8f1-6c838d4a2891",
        "colab": {
          "base_uri": "https://localhost:8080/",
          "height": 296
        }
      },
      "outputs": [
        {
          "output_type": "execute_result",
          "data": {
            "text/plain": [
              "<matplotlib.axes._subplots.AxesSubplot at 0x7f2212c323d0>"
            ]
          },
          "metadata": {},
          "execution_count": 20
        },
        {
          "output_type": "display_data",
          "data": {
            "text/plain": [
              "<Figure size 432x288 with 1 Axes>"
            ],
            "image/png": "[encoded data removed]"
          },
          "metadata": {
            "needs_background": "light"
          }
        }
      ],
      "source": [
        "sns.countplot(x='SibSp', data=train)"
      ]
    },
    {
      "cell_type": "markdown",
      "id": "leading-execution",
      "metadata": {
        "papermill": {
          "duration": 0.061975,
          "end_time": "2022-02-02T16:49:50.769015",
          "exception": false,
          "start_time": "2022-02-02T16:49:50.707040",
          "status": "completed"
        },
        "tags": [],
        "id": "leading-execution"
      },
      "source": [
        "Visualizing survival based on the gender."
      ]
    },
    {
      "cell_type": "code",
      "execution_count": null,
      "id": "turkish-norway",
      "metadata": {
        "execution": {
          "iopub.execute_input": "2022-02-02T16:49:51.048536Z",
          "iopub.status.busy": "2022-02-02T16:49:51.047860Z",
          "iopub.status.idle": "2022-02-02T16:49:51.235298Z",
          "shell.execute_reply": "2022-02-02T16:49:51.234580Z",
          "shell.execute_reply.started": "2022-02-02T16:47:28.298445Z"
        },
        "papermill": {
          "duration": 0.25366,
          "end_time": "2022-02-02T16:49:51.235439",
          "exception": false,
          "start_time": "2022-02-02T16:49:50.981779",
          "status": "completed"
        },
        "tags": [],
        "id": "turkish-norway",
        "outputId": "af00ccac-3371-45db-c589-e3f1ab35a5f3",
        "colab": {
          "base_uri": "https://localhost:8080/",
          "height": 298
        }
      },
      "outputs": [
        {
          "output_type": "execute_result",
          "data": {
            "text/plain": [
              "<matplotlib.axes._subplots.AxesSubplot at 0x7f2212c3bf40>"
            ]
          },
          "metadata": {},
          "execution_count": 21
        },
        {
          "output_type": "display_data",
          "data": {
            "text/plain": [
              "<Figure size 432x288 with 1 Axes>"
            ],
            "image/png": "[encoded data removed]"
          },
          "metadata": {
            "needs_background": "light"
          }
        }
      ],
      "source": [
        "sns.histplot(train, x = \"Sex\", hue = \"Survived\", multiple = \"stack\", palette = \"YlOrBr\")"
      ]
    },
    {
      "cell_type": "code",
      "source": [
        "sns.histplot(train, x = \"Pclass\", hue = \"Survived\", multiple = \"stack\", palette = \"YlOrBr\")"
      ],
      "metadata": {
        "colab": {
          "base_uri": "https://localhost:8080/",
          "height": 296
        },
        "id": "46pWg-K43zgr",
        "outputId": "edf6e4fb-4a54-4276-af2c-877db804896b"
      },
      "id": "46pWg-K43zgr",
      "execution_count": null,
      "outputs": [
        {
          "output_type": "execute_result",
          "data": {
            "text/plain": [
              "<matplotlib.axes._subplots.AxesSubplot at 0x7f2212b967f0>"
            ]
          },
          "metadata": {},
          "execution_count": 22
        },
        {
          "output_type": "display_data",
          "data": {
            "text/plain": [
              "<Figure size 432x288 with 1 Axes>"
            ],
            "image/png": "[encoded data removed]"
          },
          "metadata": {
            "needs_background": "light"
          }
        }
      ]
    },
    {
      "cell_type": "code",
      "source": [
        "sns.histplot(train, x = \"Embarked\", hue = \"Survived\", multiple = \"stack\", palette = \"YlOrBr\")"
      ],
      "metadata": {
        "colab": {
          "base_uri": "https://localhost:8080/",
          "height": 296
        },
        "id": "IGlG63K4xGI-",
        "outputId": "c64f8fe7-8a81-4699-edd2-35b5a7f0ffd7"
      },
      "id": "IGlG63K4xGI-",
      "execution_count": null,
      "outputs": [
        {
          "output_type": "execute_result",
          "data": {
            "text/plain": [
              "<matplotlib.axes._subplots.AxesSubplot at 0x7f2212a4ec40>"
            ]
          },
          "metadata": {},
          "execution_count": 23
        },
        {
          "output_type": "display_data",
          "data": {
            "text/plain": [
              "<Figure size 432x288 with 1 Axes>"
            ],
            "image/png": "[encoded data removed]"
          },
          "metadata": {
            "needs_background": "light"
          }
        }
      ]
    },
    {
      "cell_type": "code",
      "source": [
        "sns.histplot(train, x = \"SibSp\", hue = \"Survived\", multiple = \"stack\", palette = \"YlOrBr\")"
      ],
      "metadata": {
        "colab": {
          "base_uri": "https://localhost:8080/",
          "height": 296
        },
        "id": "YFy6IltUxNmq",
        "outputId": "6f0f1056-7bf9-46e3-eb98-b8923a7b2fb4"
      },
      "id": "YFy6IltUxNmq",
      "execution_count": null,
      "outputs": [
        {
          "output_type": "execute_result",
          "data": {
            "text/plain": [
              "<matplotlib.axes._subplots.AxesSubplot at 0x7f2212b3b2b0>"
            ]
          },
          "metadata": {},
          "execution_count": 24
        },
        {
          "output_type": "display_data",
          "data": {
            "text/plain": [
              "<Figure size 432x288 with 1 Axes>"
            ],
            "image/png": "[encoded data removed]"
          },
          "metadata": {
            "needs_background": "light"
          }
        }
      ]
    },
    {
      "cell_type": "markdown",
      "id": "ordinary-interference",
      "metadata": {
        "papermill": {
          "duration": 0.062913,
          "end_time": "2022-02-02T16:49:51.361691",
          "exception": false,
          "start_time": "2022-02-02T16:49:51.298778",
          "status": "completed"
        },
        "tags": [],
        "id": "ordinary-interference"
      },
      "source": [
        "Plotting the same graph but with ratio instead."
      ]
    },
    {
      "cell_type": "markdown",
      "id": "oriented-mailman",
      "metadata": {
        "papermill": {
          "duration": 0.063733,
          "end_time": "2022-02-02T16:49:51.920432",
          "exception": false,
          "start_time": "2022-02-02T16:49:51.856699",
          "status": "completed"
        },
        "tags": [],
        "id": "oriented-mailman"
      },
      "source": [
        "Now, visualizing survival based on the fare."
      ]
    },
    {
      "cell_type": "code",
      "execution_count": null,
      "id": "union-nursery",
      "metadata": {
        "execution": {
          "iopub.execute_input": "2022-02-02T16:49:52.081696Z",
          "iopub.status.busy": "2022-02-02T16:49:52.061924Z",
          "iopub.status.idle": "2022-02-02T16:49:52.605809Z",
          "shell.execute_reply": "2022-02-02T16:49:52.606285Z",
          "shell.execute_reply.started": "2022-02-02T16:47:28.647528Z"
        },
        "papermill": {
          "duration": 0.620928,
          "end_time": "2022-02-02T16:49:52.606478",
          "exception": false,
          "start_time": "2022-02-02T16:49:51.985550",
          "status": "completed"
        },
        "tags": [],
        "id": "union-nursery",
        "outputId": "d3bdddb4-7a48-49f0-81c0-1b90dfd18d69",
        "colab": {
          "base_uri": "https://localhost:8080/",
          "height": 528
        }
      },
      "outputs": [
        {
          "output_type": "execute_result",
          "data": {
            "text/plain": [
              "<matplotlib.axes._subplots.AxesSubplot at 0x7f2212905820>"
            ]
          },
          "metadata": {},
          "execution_count": 25
        },
        {
          "output_type": "display_data",
          "data": {
            "text/plain": [
              "<Figure size 842.4x595.44 with 1 Axes>"
            ],
            "image/png": "[encoded data removed]"
          },
          "metadata": {
            "needs_background": "light"
          }
        }
      ],
      "source": [
        "from matplotlib import rcParams\n",
        "\n",
        "# figure size in inches\n",
        "rcParams['figure.figsize'] = 11.7,8.27\n",
        "sns.histplot(train, x = \"Fare\", hue = \"Survived\", multiple = \"stack\", palette = \"YlOrBr\")"
      ]
    },
    {
      "cell_type": "markdown",
      "id": "aquatic-nerve",
      "metadata": {
        "papermill": {
          "duration": 0.065767,
          "end_time": "2022-02-02T16:49:52.740258",
          "exception": false,
          "start_time": "2022-02-02T16:49:52.674491",
          "status": "completed"
        },
        "tags": [],
        "id": "aquatic-nerve"
      },
      "source": [
        "Passengers with cheaper ticket fares are more likely to die. Put differently, passengers with more expensive tickets, and therefore a more important social status, seem to be rescued first."
      ]
    },
    {
      "cell_type": "markdown",
      "id": "given-restoration",
      "metadata": {
        "papermill": {
          "duration": 0.066106,
          "end_time": "2022-02-02T16:49:53.471388",
          "exception": false,
          "start_time": "2022-02-02T16:49:53.405282",
          "status": "completed"
        },
        "tags": [],
        "id": "given-restoration"
      },
      "source": [
        "## Cleaning the  train dataset"
      ]
    },
    {
      "cell_type": "code",
      "execution_count": null,
      "id": "necessary-equilibrium",
      "metadata": {
        "execution": {
          "iopub.execute_input": "2022-02-02T16:49:53.623190Z",
          "iopub.status.busy": "2022-02-02T16:49:53.622448Z",
          "iopub.status.idle": "2022-02-02T16:49:53.627804Z",
          "shell.execute_reply": "2022-02-02T16:49:53.627072Z",
          "shell.execute_reply.started": "2022-02-02T16:47:29.236924Z"
        },
        "papermill": {
          "duration": 0.089023,
          "end_time": "2022-02-02T16:49:53.627952",
          "exception": false,
          "start_time": "2022-02-02T16:49:53.538929",
          "status": "completed"
        },
        "tags": [],
        "id": "necessary-equilibrium",
        "outputId": "a4f3b549-640e-430b-b546-32adb4d831e4",
        "colab": {
          "base_uri": "https://localhost:8080/",
          "height": 206
        }
      },
      "outputs": [
        {
          "output_type": "execute_result",
          "data": {
            "text/plain": [
              "   Survived  Pclass     Sex   Age  SibSp  Parch     Fare Embarked\n",
              "0         0       3    male  22.0      1      0   7.2500        S\n",
              "1         1       1  female  38.0      1      0  71.2833        C\n",
              "2         1       3  female  26.0      0      0   7.9250        S\n",
              "3         1       1  female  35.0      1      0  53.1000        S\n",
              "4         0       3    male  35.0      0      0   8.0500        S"
            ],
            "text/html": [
              "\n",
              "  <div id=\"df-444a311b-4713-45c1-8211-d04fbe4c27ff\">\n",
              "    <div class=\"colab-df-container\">\n",
              "      <div>\n",
              "<style scoped>\n",
              "    .dataframe tbody tr th:only-of-type {\n",
              "        vertical-align: middle;\n",
              "    }\n",
              "\n",
              "    .dataframe tbody tr th {\n",
              "        vertical-align: top;\n",
              "    }\n",
              "\n",
              "    .dataframe thead th {\n",
              "        text-align: right;\n",
              "    }\n",
              "</style>\n",
              "<table border=\"1\" class=\"dataframe\">\n",
              "  <thead>\n",
              "    <tr style=\"text-align: right;\">\n",
              "      <th></th>\n",
              "      <th>Survived</th>\n",
              "      <th>Pclass</th>\n",
              "      <th>Sex</th>\n",
              "      <th>Age</th>\n",
              "      <th>SibSp</th>\n",
              "      <th>Parch</th>\n",
              "      <th>Fare</th>\n",
              "      <th>Embarked</th>\n",
              "    </tr>\n",
              "  </thead>\n",
              "  <tbody>\n",
              "    <tr>\n",
              "      <th>0</th>\n",
              "      <td>0</td>\n",
              "      <td>3</td>\n",
              "      <td>male</td>\n",
              "      <td>22.0</td>\n",
              "      <td>1</td>\n",
              "      <td>0</td>\n",
              "      <td>7.2500</td>\n",
              "      <td>S</td>\n",
              "    </tr>\n",
              "    <tr>\n",
              "      <th>1</th>\n",
              "      <td>1</td>\n",
              "      <td>1</td>\n",
              "      <td>female</td>\n",
              "      <td>38.0</td>\n",
              "      <td>1</td>\n",
              "      <td>0</td>\n",
              "      <td>71.2833</td>\n",
              "      <td>C</td>\n",
              "    </tr>\n",
              "    <tr>\n",
              "      <th>2</th>\n",
              "      <td>1</td>\n",
              "      <td>3</td>\n",
              "      <td>female</td>\n",
              "      <td>26.0</td>\n",
              "      <td>0</td>\n",
              "      <td>0</td>\n",
              "      <td>7.9250</td>\n",
              "      <td>S</td>\n",
              "    </tr>\n",
              "    <tr>\n",
              "      <th>3</th>\n",
              "      <td>1</td>\n",
              "      <td>1</td>\n",
              "      <td>female</td>\n",
              "      <td>35.0</td>\n",
              "      <td>1</td>\n",
              "      <td>0</td>\n",
              "      <td>53.1000</td>\n",
              "      <td>S</td>\n",
              "    </tr>\n",
              "    <tr>\n",
              "      <th>4</th>\n",
              "      <td>0</td>\n",
              "      <td>3</td>\n",
              "      <td>male</td>\n",
              "      <td>35.0</td>\n",
              "      <td>0</td>\n",
              "      <td>0</td>\n",
              "      <td>8.0500</td>\n",
              "      <td>S</td>\n",
              "    </tr>\n",
              "  </tbody>\n",
              "</table>\n",
              "</div>\n",
              "      <button class=\"colab-df-convert\" onclick=\"convertToInteractive('df-444a311b-4713-45c1-8211-d04fbe4c27ff')\"\n",
              "              title=\"Convert this dataframe to an interactive table.\"\n",
              "              style=\"display:none;\">\n",
              "        \n",
              "  <svg xmlns=\"http://www.w3.org/2000/svg\" height=\"24px\"viewBox=\"0 0 24 24\"\n",
              "       width=\"24px\">\n",
              "    <path d=\"M0 0h24v24H0V0z\" fill=\"none\"/>\n",
              "    <path d=\"M18.56 5.44l.94 2.06.94-2.06 2.06-.94-2.06-.94-.94-2.06-.94 2.06-2.06.94zm-11 1L8.5 8.5l.94-2.06 2.06-.94-2.06-.94L8.5 2.5l-.94 2.06-2.06.94zm10 10l.94 2.06.94-2.06 2.06-.94-2.06-.94-.94-2.06-.94 2.06-2.06.94z\"/><path d=\"M17.41 7.96l-1.37-1.37c-.4-.4-.92-.59-1.43-.59-.52 0-1.04.2-1.43.59L10.3 9.45l-7.72 7.72c-.78.78-.78 2.05 0 2.83L4 21.41c.39.39.9.59 1.41.59.51 0 1.02-.2 1.41-.59l7.78-7.78 2.81-2.81c.8-.78.8-2.07 0-2.86zM5.41 20L4 18.59l7.72-7.72 1.47 1.35L5.41 20z\"/>\n",
              "  </svg>\n",
              "      </button>\n",
              "      \n",
              "  <style>\n",
              "    .colab-df-container {\n",
              "      display:flex;\n",
              "      flex-wrap:wrap;\n",
              "      gap: 12px;\n",
              "    }\n",
              "\n",
              "    .colab-df-convert {\n",
              "      background-color: #E8F0FE;\n",
              "      border: none;\n",
              "      border-radius: 50%;\n",
              "      cursor: pointer;\n",
              "      display: none;\n",
              "      fill: #1967D2;\n",
              "      height: 32px;\n",
              "      padding: 0 0 0 0;\n",
              "      width: 32px;\n",
              "    }\n",
              "\n",
              "    .colab-df-convert:hover {\n",
              "      background-color: #E2EBFA;\n",
              "      box-shadow: 0px 1px 2px rgba(60, 64, 67, 0.3), 0px 1px 3px 1px rgba(60, 64, 67, 0.15);\n",
              "      fill: #174EA6;\n",
              "    }\n",
              "\n",
              "    [theme=dark] .colab-df-convert {\n",
              "      background-color: #3B4455;\n",
              "      fill: #D2E3FC;\n",
              "    }\n",
              "\n",
              "    [theme=dark] .colab-df-convert:hover {\n",
              "      background-color: #434B5C;\n",
              "      box-shadow: 0px 1px 3px 1px rgba(0, 0, 0, 0.15);\n",
              "      filter: drop-shadow(0px 1px 2px rgba(0, 0, 0, 0.3));\n",
              "      fill: #FFFFFF;\n",
              "    }\n",
              "  </style>\n",
              "\n",
              "      <script>\n",
              "        const buttonEl =\n",
              "          document.querySelector('#df-444a311b-4713-45c1-8211-d04fbe4c27ff button.colab-df-convert');\n",
              "        buttonEl.style.display =\n",
              "          google.colab.kernel.accessAllowed ? 'block' : 'none';\n",
              "\n",
              "        async function convertToInteractive(key) {\n",
              "          const element = document.querySelector('#df-444a311b-4713-45c1-8211-d04fbe4c27ff');\n",
              "          const dataTable =\n",
              "            await google.colab.kernel.invokeFunction('convertToInteractive',\n",
              "                                                     [key], {});\n",
              "          if (!dataTable) return;\n",
              "\n",
              "          const docLinkHtml = 'Like what you see? Visit the ' +\n",
              "            '<a target=\"_blank\" href=https://colab.research.google.com/notebooks/data_table.ipynb>data table notebook</a>'\n",
              "            + ' to learn more about interactive tables.';\n",
              "          element.innerHTML = '';\n",
              "          dataTable['output_type'] = 'display_data';\n",
              "          await google.colab.output.renderOutput(dataTable, element);\n",
              "          const docLink = document.createElement('div');\n",
              "          docLink.innerHTML = docLinkHtml;\n",
              "          element.appendChild(docLink);\n",
              "        }\n",
              "      </script>\n",
              "    </div>\n",
              "  </div>\n",
              "  "
            ]
          },
          "metadata": {},
          "execution_count": 26
        }
      ],
      "source": [
        "# dropping umwanted columns\n",
        "df1=train.drop(['Name','Ticket','Cabin','PassengerId'], axis=1)\n",
        "df1.head()"
      ]
    },
    {
      "cell_type": "code",
      "execution_count": null,
      "id": "induced-heath",
      "metadata": {
        "execution": {
          "iopub.execute_input": "2022-02-02T16:49:53.941639Z",
          "iopub.status.busy": "2022-02-02T16:49:53.940629Z",
          "iopub.status.idle": "2022-02-02T16:49:53.945778Z",
          "shell.execute_reply": "2022-02-02T16:49:53.945205Z",
          "shell.execute_reply.started": "2022-02-02T16:47:29.277805Z"
        },
        "papermill": {
          "duration": 0.09962,
          "end_time": "2022-02-02T16:49:53.945921",
          "exception": false,
          "start_time": "2022-02-02T16:49:53.846301",
          "status": "completed"
        },
        "tags": [],
        "id": "induced-heath",
        "outputId": "e92406be-4c82-4fd7-ad42-4cb54de1b6d6",
        "colab": {
          "base_uri": "https://localhost:8080/",
          "height": 206
        }
      },
      "outputs": [
        {
          "output_type": "execute_result",
          "data": {
            "text/plain": [
              "   Survived  Pclass  Sex   Age  SibSp  Parch     Fare Embarked\n",
              "0         0       3    1  22.0      1      0   7.2500        0\n",
              "1         1       1    0  38.0      1      0  71.2833        1\n",
              "2         1       3    0  26.0      0      0   7.9250        0\n",
              "3         1       1    0  35.0      1      0  53.1000        0\n",
              "4         0       3    1  35.0      0      0   8.0500        0"
            ],
            "text/html": [
              "\n",
              "  <div id=\"df-5e34f100-52ba-49a0-bd87-4cb019299ada\">\n",
              "    <div class=\"colab-df-container\">\n",
              "      <div>\n",
              "<style scoped>\n",
              "    .dataframe tbody tr th:only-of-type {\n",
              "        vertical-align: middle;\n",
              "    }\n",
              "\n",
              "    .dataframe tbody tr th {\n",
              "        vertical-align: top;\n",
              "    }\n",
              "\n",
              "    .dataframe thead th {\n",
              "        text-align: right;\n",
              "    }\n",
              "</style>\n",
              "<table border=\"1\" class=\"dataframe\">\n",
              "  <thead>\n",
              "    <tr style=\"text-align: right;\">\n",
              "      <th></th>\n",
              "      <th>Survived</th>\n",
              "      <th>Pclass</th>\n",
              "      <th>Sex</th>\n",
              "      <th>Age</th>\n",
              "      <th>SibSp</th>\n",
              "      <th>Parch</th>\n",
              "      <th>Fare</th>\n",
              "      <th>Embarked</th>\n",
              "    </tr>\n",
              "  </thead>\n",
              "  <tbody>\n",
              "    <tr>\n",
              "      <th>0</th>\n",
              "      <td>0</td>\n",
              "      <td>3</td>\n",
              "      <td>1</td>\n",
              "      <td>22.0</td>\n",
              "      <td>1</td>\n",
              "      <td>0</td>\n",
              "      <td>7.2500</td>\n",
              "      <td>0</td>\n",
              "    </tr>\n",
              "    <tr>\n",
              "      <th>1</th>\n",
              "      <td>1</td>\n",
              "      <td>1</td>\n",
              "      <td>0</td>\n",
              "      <td>38.0</td>\n",
              "      <td>1</td>\n",
              "      <td>0</td>\n",
              "      <td>71.2833</td>\n",
              "      <td>1</td>\n",
              "    </tr>\n",
              "    <tr>\n",
              "      <th>2</th>\n",
              "      <td>1</td>\n",
              "      <td>3</td>\n",
              "      <td>0</td>\n",
              "      <td>26.0</td>\n",
              "      <td>0</td>\n",
              "      <td>0</td>\n",
              "      <td>7.9250</td>\n",
              "      <td>0</td>\n",
              "    </tr>\n",
              "    <tr>\n",
              "      <th>3</th>\n",
              "      <td>1</td>\n",
              "      <td>1</td>\n",
              "      <td>0</td>\n",
              "      <td>35.0</td>\n",
              "      <td>1</td>\n",
              "      <td>0</td>\n",
              "      <td>53.1000</td>\n",
              "      <td>0</td>\n",
              "    </tr>\n",
              "    <tr>\n",
              "      <th>4</th>\n",
              "      <td>0</td>\n",
              "      <td>3</td>\n",
              "      <td>1</td>\n",
              "      <td>35.0</td>\n",
              "      <td>0</td>\n",
              "      <td>0</td>\n",
              "      <td>8.0500</td>\n",
              "      <td>0</td>\n",
              "    </tr>\n",
              "  </tbody>\n",
              "</table>\n",
              "</div>\n",
              "      <button class=\"colab-df-convert\" onclick=\"convertToInteractive('df-5e34f100-52ba-49a0-bd87-4cb019299ada')\"\n",
              "              title=\"Convert this dataframe to an interactive table.\"\n",
              "              style=\"display:none;\">\n",
              "        \n",
              "  <svg xmlns=\"http://www.w3.org/2000/svg\" height=\"24px\"viewBox=\"0 0 24 24\"\n",
              "       width=\"24px\">\n",
              "    <path d=\"M0 0h24v24H0V0z\" fill=\"none\"/>\n",
              "    <path d=\"M18.56 5.44l.94 2.06.94-2.06 2.06-.94-2.06-.94-.94-2.06-.94 2.06-2.06.94zm-11 1L8.5 8.5l.94-2.06 2.06-.94-2.06-.94L8.5 2.5l-.94 2.06-2.06.94zm10 10l.94 2.06.94-2.06 2.06-.94-2.06-.94-.94-2.06-.94 2.06-2.06.94z\"/><path d=\"M17.41 7.96l-1.37-1.37c-.4-.4-.92-.59-1.43-.59-.52 0-1.04.2-1.43.59L10.3 9.45l-7.72 7.72c-.78.78-.78 2.05 0 2.83L4 21.41c.39.39.9.59 1.41.59.51 0 1.02-.2 1.41-.59l7.78-7.78 2.81-2.81c.8-.78.8-2.07 0-2.86zM5.41 20L4 18.59l7.72-7.72 1.47 1.35L5.41 20z\"/>\n",
              "  </svg>\n",
              "      </button>\n",
              "      \n",
              "  <style>\n",
              "    .colab-df-container {\n",
              "      display:flex;\n",
              "      flex-wrap:wrap;\n",
              "      gap: 12px;\n",
              "    }\n",
              "\n",
              "    .colab-df-convert {\n",
              "      background-color: #E8F0FE;\n",
              "      border: none;\n",
              "      border-radius: 50%;\n",
              "      cursor: pointer;\n",
              "      display: none;\n",
              "      fill: #1967D2;\n",
              "      height: 32px;\n",
              "      padding: 0 0 0 0;\n",
              "      width: 32px;\n",
              "    }\n",
              "\n",
              "    .colab-df-convert:hover {\n",
              "      background-color: #E2EBFA;\n",
              "      box-shadow: 0px 1px 2px rgba(60, 64, 67, 0.3), 0px 1px 3px 1px rgba(60, 64, 67, 0.15);\n",
              "      fill: #174EA6;\n",
              "    }\n",
              "\n",
              "    [theme=dark] .colab-df-convert {\n",
              "      background-color: #3B4455;\n",
              "      fill: #D2E3FC;\n",
              "    }\n",
              "\n",
              "    [theme=dark] .colab-df-convert:hover {\n",
              "      background-color: #434B5C;\n",
              "      box-shadow: 0px 1px 3px 1px rgba(0, 0, 0, 0.15);\n",
              "      filter: drop-shadow(0px 1px 2px rgba(0, 0, 0, 0.3));\n",
              "      fill: #FFFFFF;\n",
              "    }\n",
              "  </style>\n",
              "\n",
              "      <script>\n",
              "        const buttonEl =\n",
              "          document.querySelector('#df-5e34f100-52ba-49a0-bd87-4cb019299ada button.colab-df-convert');\n",
              "        buttonEl.style.display =\n",
              "          google.colab.kernel.accessAllowed ? 'block' : 'none';\n",
              "\n",
              "        async function convertToInteractive(key) {\n",
              "          const element = document.querySelector('#df-5e34f100-52ba-49a0-bd87-4cb019299ada');\n",
              "          const dataTable =\n",
              "            await google.colab.kernel.invokeFunction('convertToInteractive',\n",
              "                                                     [key], {});\n",
              "          if (!dataTable) return;\n",
              "\n",
              "          const docLinkHtml = 'Like what you see? Visit the ' +\n",
              "            '<a target=\"_blank\" href=https://colab.research.google.com/notebooks/data_table.ipynb>data table notebook</a>'\n",
              "            + ' to learn more about interactive tables.';\n",
              "          element.innerHTML = '';\n",
              "          dataTable['output_type'] = 'display_data';\n",
              "          await google.colab.output.renderOutput(dataTable, element);\n",
              "          const docLink = document.createElement('div');\n",
              "          docLink.innerHTML = docLinkHtml;\n",
              "          element.appendChild(docLink);\n",
              "        }\n",
              "      </script>\n",
              "    </div>\n",
              "  </div>\n",
              "  "
            ]
          },
          "metadata": {},
          "execution_count": 27
        }
      ],
      "source": [
        "# Converting categorical feature to numeric\n",
        "df1.Sex=df1.Sex.map({'female':0, 'male':1})\n",
        "df1.Embarked=df1.Embarked.map({'S':0, 'C':1, 'Q':2,'nan':'NaN'})\n",
        "df1.head()"
      ]
    },
    {
      "cell_type": "code",
      "source": [
        "df1.skew()"
      ],
      "metadata": {
        "colab": {
          "base_uri": "https://localhost:8080/"
        },
        "id": "yuV3TrDI4nxz",
        "outputId": "d1869906-7078-4aef-fb28-f68bac8913ad"
      },
      "id": "yuV3TrDI4nxz",
      "execution_count": null,
      "outputs": [
        {
          "output_type": "execute_result",
          "data": {
            "text/plain": [
              "Survived    0.478523\n",
              "Pclass     -0.630548\n",
              "Sex        -0.618921\n",
              "Age         0.389108\n",
              "SibSp       3.695352\n",
              "Parch       2.749117\n",
              "Fare        4.787317\n",
              "Embarked    1.539926\n",
              "dtype: float64"
            ]
          },
          "metadata": {},
          "execution_count": 28
        }
      ]
    },
    {
      "cell_type": "markdown",
      "source": [
        "![image.png](data:image/png;base64,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)"
      ],
      "metadata": {
        "id": "xMhdlzXSKS5N"
      },
      "id": "xMhdlzXSKS5N"
    },
    {
      "cell_type": "code",
      "execution_count": null,
      "id": "everyday-weekly",
      "metadata": {
        "execution": {
          "iopub.execute_input": "2022-02-02T16:49:54.091806Z",
          "iopub.status.busy": "2022-02-02T16:49:54.091084Z",
          "iopub.status.idle": "2022-02-02T16:49:54.098614Z",
          "shell.execute_reply": "2022-02-02T16:49:54.098022Z",
          "shell.execute_reply.started": "2022-02-02T16:47:29.303939Z"
        },
        "papermill": {
          "duration": 0.082861,
          "end_time": "2022-02-02T16:49:54.098791",
          "exception": false,
          "start_time": "2022-02-02T16:49:54.015930",
          "status": "completed"
        },
        "tags": [],
        "id": "everyday-weekly"
      },
      "outputs": [],
      "source": [
        "# median age of each sex\n",
        "median_age_men=df1[df1['Sex']==1]['Age'].median()\n",
        "median_age_women=df1[df1['Sex']==0]['Age'].median()"
      ]
    },
    {
      "cell_type": "code",
      "execution_count": null,
      "id": "fiscal-policy",
      "metadata": {
        "execution": {
          "iopub.execute_input": "2022-02-02T16:49:54.241086Z",
          "iopub.status.busy": "2022-02-02T16:49:54.240362Z",
          "iopub.status.idle": "2022-02-02T16:49:54.245885Z",
          "shell.execute_reply": "2022-02-02T16:49:54.246424Z",
          "shell.execute_reply.started": "2022-02-02T16:47:29.321593Z"
        },
        "papermill": {
          "duration": 0.079925,
          "end_time": "2022-02-02T16:49:54.246603",
          "exception": false,
          "start_time": "2022-02-02T16:49:54.166678",
          "status": "completed"
        },
        "tags": [],
        "id": "fiscal-policy"
      },
      "outputs": [],
      "source": [
        "# filling null values in 'Age' with respective median age\n",
        "df1.loc[(df1.Age.isnull()) & (df1['Sex']==0),'Age']=median_age_women\n",
        "df1.loc[(df1.Age.isnull()) & (df1['Sex']==1),'Age']=median_age_men"
      ]
    },
    {
      "cell_type": "code",
      "execution_count": null,
      "id": "north-radiation",
      "metadata": {
        "execution": {
          "iopub.execute_input": "2022-02-02T16:49:54.387664Z",
          "iopub.status.busy": "2022-02-02T16:49:54.387035Z",
          "iopub.status.idle": "2022-02-02T16:49:54.396135Z",
          "shell.execute_reply": "2022-02-02T16:49:54.395419Z",
          "shell.execute_reply.started": "2022-02-02T16:47:29.335657Z"
        },
        "papermill": {
          "duration": 0.080181,
          "end_time": "2022-02-02T16:49:54.396282",
          "exception": false,
          "start_time": "2022-02-02T16:49:54.316101",
          "status": "completed"
        },
        "tags": [],
        "id": "north-radiation",
        "outputId": "7e0d1add-d8f5-49b8-91ad-b7bce57e57b2",
        "colab": {
          "base_uri": "https://localhost:8080/"
        }
      },
      "outputs": [
        {
          "output_type": "execute_result",
          "data": {
            "text/plain": [
              "Survived    0\n",
              "Pclass      0\n",
              "Sex         0\n",
              "Age         0\n",
              "SibSp       0\n",
              "Parch       0\n",
              "Fare        0\n",
              "Embarked    2\n",
              "dtype: int64"
            ]
          },
          "metadata": {},
          "execution_count": 31
        }
      ],
      "source": [
        "# checking for null values\n",
        "df1.isnull().sum()"
      ]
    },
    {
      "cell_type": "markdown",
      "id": "functioning-motivation",
      "metadata": {
        "papermill": {
          "duration": 0.067642,
          "end_time": "2022-02-02T16:49:54.535584",
          "exception": false,
          "start_time": "2022-02-02T16:49:54.467942",
          "status": "completed"
        },
        "tags": [],
        "id": "functioning-motivation"
      },
      "source": [
        "Two null values in Embarked column"
      ]
    },
    {
      "cell_type": "code",
      "execution_count": null,
      "id": "conceptual-disney",
      "metadata": {
        "execution": {
          "iopub.execute_input": "2022-02-02T16:49:54.681074Z",
          "iopub.status.busy": "2022-02-02T16:49:54.680141Z",
          "iopub.status.idle": "2022-02-02T16:49:54.685266Z",
          "shell.execute_reply": "2022-02-02T16:49:54.684547Z",
          "shell.execute_reply.started": "2022-02-02T16:47:29.350682Z"
        },
        "papermill": {
          "duration": 0.080865,
          "end_time": "2022-02-02T16:49:54.685415",
          "exception": false,
          "start_time": "2022-02-02T16:49:54.604550",
          "status": "completed"
        },
        "tags": [],
        "id": "conceptual-disney"
      },
      "outputs": [],
      "source": [
        "# dropping rows with null value\n",
        "df1.dropna(inplace=True)"
      ]
    },
    {
      "cell_type": "code",
      "execution_count": null,
      "id": "actual-region",
      "metadata": {
        "execution": {
          "iopub.execute_input": "2022-02-02T16:49:54.834618Z",
          "iopub.status.busy": "2022-02-02T16:49:54.833589Z",
          "iopub.status.idle": "2022-02-02T16:49:54.838939Z",
          "shell.execute_reply": "2022-02-02T16:49:54.838242Z",
          "shell.execute_reply.started": "2022-02-02T16:47:29.362019Z"
        },
        "papermill": {
          "duration": 0.081898,
          "end_time": "2022-02-02T16:49:54.839095",
          "exception": false,
          "start_time": "2022-02-02T16:49:54.757197",
          "status": "completed"
        },
        "tags": [],
        "id": "actual-region",
        "outputId": "9e303ffe-c38a-4705-f443-5a57a0c7b994",
        "colab": {
          "base_uri": "https://localhost:8080/"
        }
      },
      "outputs": [
        {
          "output_type": "execute_result",
          "data": {
            "text/plain": [
              "Survived    0\n",
              "Pclass      0\n",
              "Sex         0\n",
              "Age         0\n",
              "SibSp       0\n",
              "Parch       0\n",
              "Fare        0\n",
              "Embarked    0\n",
              "dtype: int64"
            ]
          },
          "metadata": {},
          "execution_count": 33
        }
      ],
      "source": [
        "# Data is cleaned to have no null value\n",
        "df1.isnull().sum()"
      ]
    },
    {
      "cell_type": "code",
      "execution_count": null,
      "id": "unsigned-detector",
      "metadata": {
        "execution": {
          "iopub.execute_input": "2022-02-02T16:49:54.981845Z",
          "iopub.status.busy": "2022-02-02T16:49:54.980898Z",
          "iopub.status.idle": "2022-02-02T16:49:54.996520Z",
          "shell.execute_reply": "2022-02-02T16:49:54.995965Z",
          "shell.execute_reply.started": "2022-02-02T16:47:29.375742Z"
        },
        "papermill": {
          "duration": 0.088689,
          "end_time": "2022-02-02T16:49:54.996671",
          "exception": false,
          "start_time": "2022-02-02T16:49:54.907982",
          "status": "completed"
        },
        "scrolled": true,
        "tags": [],
        "id": "unsigned-detector",
        "outputId": "c00af1cf-46fa-465f-bee4-854f8a56c0a9",
        "colab": {
          "base_uri": "https://localhost:8080/",
          "height": 206
        }
      },
      "outputs": [
        {
          "output_type": "execute_result",
          "data": {
            "text/plain": [
              "   Survived  Pclass  Sex   Age  SibSp  Parch     Fare Embarked\n",
              "0         0       3    1  22.0      1      0   7.2500        0\n",
              "1         1       1    0  38.0      1      0  71.2833        1\n",
              "2         1       3    0  26.0      0      0   7.9250        0\n",
              "3         1       1    0  35.0      1      0  53.1000        0\n",
              "4         0       3    1  35.0      0      0   8.0500        0"
            ],
            "text/html": [
              "\n",
              "  <div id=\"df-250fdfed-d80f-49cc-b018-5cc6e24c7158\">\n",
              "    <div class=\"colab-df-container\">\n",
              "      <div>\n",
              "<style scoped>\n",
              "    .dataframe tbody tr th:only-of-type {\n",
              "        vertical-align: middle;\n",
              "    }\n",
              "\n",
              "    .dataframe tbody tr th {\n",
              "        vertical-align: top;\n",
              "    }\n",
              "\n",
              "    .dataframe thead th {\n",
              "        text-align: right;\n",
              "    }\n",
              "</style>\n",
              "<table border=\"1\" class=\"dataframe\">\n",
              "  <thead>\n",
              "    <tr style=\"text-align: right;\">\n",
              "      <th></th>\n",
              "      <th>Survived</th>\n",
              "      <th>Pclass</th>\n",
              "      <th>Sex</th>\n",
              "      <th>Age</th>\n",
              "      <th>SibSp</th>\n",
              "      <th>Parch</th>\n",
              "      <th>Fare</th>\n",
              "      <th>Embarked</th>\n",
              "    </tr>\n",
              "  </thead>\n",
              "  <tbody>\n",
              "    <tr>\n",
              "      <th>0</th>\n",
              "      <td>0</td>\n",
              "      <td>3</td>\n",
              "      <td>1</td>\n",
              "      <td>22.0</td>\n",
              "      <td>1</td>\n",
              "      <td>0</td>\n",
              "      <td>7.2500</td>\n",
              "      <td>0</td>\n",
              "    </tr>\n",
              "    <tr>\n",
              "      <th>1</th>\n",
              "      <td>1</td>\n",
              "      <td>1</td>\n",
              "      <td>0</td>\n",
              "      <td>38.0</td>\n",
              "      <td>1</td>\n",
              "      <td>0</td>\n",
              "      <td>71.2833</td>\n",
              "      <td>1</td>\n",
              "    </tr>\n",
              "    <tr>\n",
              "      <th>2</th>\n",
              "      <td>1</td>\n",
              "      <td>3</td>\n",
              "      <td>0</td>\n",
              "      <td>26.0</td>\n",
              "      <td>0</td>\n",
              "      <td>0</td>\n",
              "      <td>7.9250</td>\n",
              "      <td>0</td>\n",
              "    </tr>\n",
              "    <tr>\n",
              "      <th>3</th>\n",
              "      <td>1</td>\n",
              "      <td>1</td>\n",
              "      <td>0</td>\n",
              "      <td>35.0</td>\n",
              "      <td>1</td>\n",
              "      <td>0</td>\n",
              "      <td>53.1000</td>\n",
              "      <td>0</td>\n",
              "    </tr>\n",
              "    <tr>\n",
              "      <th>4</th>\n",
              "      <td>0</td>\n",
              "      <td>3</td>\n",
              "      <td>1</td>\n",
              "      <td>35.0</td>\n",
              "      <td>0</td>\n",
              "      <td>0</td>\n",
              "      <td>8.0500</td>\n",
              "      <td>0</td>\n",
              "    </tr>\n",
              "  </tbody>\n",
              "</table>\n",
              "</div>\n",
              "      <button class=\"colab-df-convert\" onclick=\"convertToInteractive('df-250fdfed-d80f-49cc-b018-5cc6e24c7158')\"\n",
              "              title=\"Convert this dataframe to an interactive table.\"\n",
              "              style=\"display:none;\">\n",
              "        \n",
              "  <svg xmlns=\"http://www.w3.org/2000/svg\" height=\"24px\"viewBox=\"0 0 24 24\"\n",
              "       width=\"24px\">\n",
              "    <path d=\"M0 0h24v24H0V0z\" fill=\"none\"/>\n",
              "    <path d=\"M18.56 5.44l.94 2.06.94-2.06 2.06-.94-2.06-.94-.94-2.06-.94 2.06-2.06.94zm-11 1L8.5 8.5l.94-2.06 2.06-.94-2.06-.94L8.5 2.5l-.94 2.06-2.06.94zm10 10l.94 2.06.94-2.06 2.06-.94-2.06-.94-.94-2.06-.94 2.06-2.06.94z\"/><path d=\"M17.41 7.96l-1.37-1.37c-.4-.4-.92-.59-1.43-.59-.52 0-1.04.2-1.43.59L10.3 9.45l-7.72 7.72c-.78.78-.78 2.05 0 2.83L4 21.41c.39.39.9.59 1.41.59.51 0 1.02-.2 1.41-.59l7.78-7.78 2.81-2.81c.8-.78.8-2.07 0-2.86zM5.41 20L4 18.59l7.72-7.72 1.47 1.35L5.41 20z\"/>\n",
              "  </svg>\n",
              "      </button>\n",
              "      \n",
              "  <style>\n",
              "    .colab-df-container {\n",
              "      display:flex;\n",
              "      flex-wrap:wrap;\n",
              "      gap: 12px;\n",
              "    }\n",
              "\n",
              "    .colab-df-convert {\n",
              "      background-color: #E8F0FE;\n",
              "      border: none;\n",
              "      border-radius: 50%;\n",
              "      cursor: pointer;\n",
              "      display: none;\n",
              "      fill: #1967D2;\n",
              "      height: 32px;\n",
              "      padding: 0 0 0 0;\n",
              "      width: 32px;\n",
              "    }\n",
              "\n",
              "    .colab-df-convert:hover {\n",
              "      background-color: #E2EBFA;\n",
              "      box-shadow: 0px 1px 2px rgba(60, 64, 67, 0.3), 0px 1px 3px 1px rgba(60, 64, 67, 0.15);\n",
              "      fill: #174EA6;\n",
              "    }\n",
              "\n",
              "    [theme=dark] .colab-df-convert {\n",
              "      background-color: #3B4455;\n",
              "      fill: #D2E3FC;\n",
              "    }\n",
              "\n",
              "    [theme=dark] .colab-df-convert:hover {\n",
              "      background-color: #434B5C;\n",
              "      box-shadow: 0px 1px 3px 1px rgba(0, 0, 0, 0.15);\n",
              "      filter: drop-shadow(0px 1px 2px rgba(0, 0, 0, 0.3));\n",
              "      fill: #FFFFFF;\n",
              "    }\n",
              "  </style>\n",
              "\n",
              "      <script>\n",
              "        const buttonEl =\n",
              "          document.querySelector('#df-250fdfed-d80f-49cc-b018-5cc6e24c7158 button.colab-df-convert');\n",
              "        buttonEl.style.display =\n",
              "          google.colab.kernel.accessAllowed ? 'block' : 'none';\n",
              "\n",
              "        async function convertToInteractive(key) {\n",
              "          const element = document.querySelector('#df-250fdfed-d80f-49cc-b018-5cc6e24c7158');\n",
              "          const dataTable =\n",
              "            await google.colab.kernel.invokeFunction('convertToInteractive',\n",
              "                                                     [key], {});\n",
              "          if (!dataTable) return;\n",
              "\n",
              "          const docLinkHtml = 'Like what you see? Visit the ' +\n",
              "            '<a target=\"_blank\" href=https://colab.research.google.com/notebooks/data_table.ipynb>data table notebook</a>'\n",
              "            + ' to learn more about interactive tables.';\n",
              "          element.innerHTML = '';\n",
              "          dataTable['output_type'] = 'display_data';\n",
              "          await google.colab.output.renderOutput(dataTable, element);\n",
              "          const docLink = document.createElement('div');\n",
              "          docLink.innerHTML = docLinkHtml;\n",
              "          element.appendChild(docLink);\n",
              "        }\n",
              "      </script>\n",
              "    </div>\n",
              "  </div>\n",
              "  "
            ]
          },
          "metadata": {},
          "execution_count": 34
        }
      ],
      "source": [
        "# cleaned dataset\n",
        "df1.head()"
      ]
    },
    {
      "cell_type": "markdown",
      "id": "bacterial-camcorder",
      "metadata": {
        "papermill": {
          "duration": 0.070024,
          "end_time": "2022-02-02T16:49:55.138142",
          "exception": false,
          "start_time": "2022-02-02T16:49:55.068118",
          "status": "completed"
        },
        "tags": [],
        "id": "bacterial-camcorder"
      },
      "source": [
        "## Feature Scaling"
      ]
    },
    {
      "cell_type": "code",
      "execution_count": null,
      "id": "israeli-cooking",
      "metadata": {
        "execution": {
          "iopub.execute_input": "2022-02-02T16:49:55.283047Z",
          "iopub.status.busy": "2022-02-02T16:49:55.282304Z",
          "iopub.status.idle": "2022-02-02T16:49:55.290104Z",
          "shell.execute_reply": "2022-02-02T16:49:55.290615Z",
          "shell.execute_reply.started": "2022-02-02T16:47:29.392784Z"
        },
        "papermill": {
          "duration": 0.081154,
          "end_time": "2022-02-02T16:49:55.290822",
          "exception": false,
          "start_time": "2022-02-02T16:49:55.209668",
          "status": "completed"
        },
        "scrolled": true,
        "tags": [],
        "id": "israeli-cooking"
      },
      "outputs": [],
      "source": [
        "df1.Age = (df1.Age-min(df1.Age))/(max(df1.Age)-min(df1.Age))\n",
        "df1.Fare = (df1.Fare-min(df1.Fare))/(max(df1.Fare)-min(df1.Fare))"
      ]
    },
    {
      "cell_type": "code",
      "execution_count": null,
      "id": "scientific-minneapolis",
      "metadata": {
        "execution": {
          "iopub.execute_input": "2022-02-02T16:49:55.433578Z",
          "iopub.status.busy": "2022-02-02T16:49:55.432863Z",
          "iopub.status.idle": "2022-02-02T16:49:55.471113Z",
          "shell.execute_reply": "2022-02-02T16:49:55.471581Z",
          "shell.execute_reply.started": "2022-02-02T16:47:29.401327Z"
        },
        "papermill": {
          "duration": 0.11095,
          "end_time": "2022-02-02T16:49:55.471880",
          "exception": false,
          "start_time": "2022-02-02T16:49:55.360930",
          "status": "completed"
        },
        "scrolled": true,
        "tags": [],
        "id": "scientific-minneapolis",
        "outputId": "43315f1a-debf-4adb-de77-76e5eea56984",
        "colab": {
          "base_uri": "https://localhost:8080/",
          "height": 300
        }
      },
      "outputs": [
        {
          "output_type": "execute_result",
          "data": {
            "text/plain": [
              "         Survived      Pclass         Sex         Age       SibSp       Parch  \\\n",
              "count  889.000000  889.000000  889.000000  889.000000  889.000000  889.000000   \n",
              "mean     0.382452    2.311586    0.649044    0.364099    0.524184    0.382452   \n",
              "std      0.486260    0.834700    0.477538    0.163160    1.103705    0.806761   \n",
              "min      0.000000    1.000000    0.000000    0.000000    0.000000    0.000000   \n",
              "25%      0.000000    2.000000    0.000000    0.271174    0.000000    0.000000   \n",
              "50%      0.000000    3.000000    1.000000    0.359135    0.000000    0.000000   \n",
              "75%      1.000000    3.000000    1.000000    0.434531    1.000000    0.000000   \n",
              "max      1.000000    3.000000    1.000000    1.000000    8.000000    6.000000   \n",
              "\n",
              "             Fare  \n",
              "count  889.000000  \n",
              "mean     0.062649  \n",
              "std      0.097003  \n",
              "min      0.000000  \n",
              "25%      0.015412  \n",
              "50%      0.028213  \n",
              "75%      0.060508  \n",
              "max      1.000000  "
            ],
            "text/html": [
              "\n",
              "  <div id=\"df-c3adabee-099d-4601-8659-dbcbd5a9f12b\">\n",
              "    <div class=\"colab-df-container\">\n",
              "      <div>\n",
              "<style scoped>\n",
              "    .dataframe tbody tr th:only-of-type {\n",
              "        vertical-align: middle;\n",
              "    }\n",
              "\n",
              "    .dataframe tbody tr th {\n",
              "        vertical-align: top;\n",
              "    }\n",
              "\n",
              "    .dataframe thead th {\n",
              "        text-align: right;\n",
              "    }\n",
              "</style>\n",
              "<table border=\"1\" class=\"dataframe\">\n",
              "  <thead>\n",
              "    <tr style=\"text-align: right;\">\n",
              "      <th></th>\n",
              "      <th>Survived</th>\n",
              "      <th>Pclass</th>\n",
              "      <th>Sex</th>\n",
              "      <th>Age</th>\n",
              "      <th>SibSp</th>\n",
              "      <th>Parch</th>\n",
              "      <th>Fare</th>\n",
              "    </tr>\n",
              "  </thead>\n",
              "  <tbody>\n",
              "    <tr>\n",
              "      <th>count</th>\n",
              "      <td>889.000000</td>\n",
              "      <td>889.000000</td>\n",
              "      <td>889.000000</td>\n",
              "      <td>889.000000</td>\n",
              "      <td>889.000000</td>\n",
              "      <td>889.000000</td>\n",
              "      <td>889.000000</td>\n",
              "    </tr>\n",
              "    <tr>\n",
              "      <th>mean</th>\n",
              "      <td>0.382452</td>\n",
              "      <td>2.311586</td>\n",
              "      <td>0.649044</td>\n",
              "      <td>0.364099</td>\n",
              "      <td>0.524184</td>\n",
              "      <td>0.382452</td>\n",
              "      <td>0.062649</td>\n",
              "    </tr>\n",
              "    <tr>\n",
              "      <th>std</th>\n",
              "      <td>0.486260</td>\n",
              "      <td>0.834700</td>\n",
              "      <td>0.477538</td>\n",
              "      <td>0.163160</td>\n",
              "      <td>1.103705</td>\n",
              "      <td>0.806761</td>\n",
              "      <td>0.097003</td>\n",
              "    </tr>\n",
              "    <tr>\n",
              "      <th>min</th>\n",
              "      <td>0.000000</td>\n",
              "      <td>1.000000</td>\n",
              "      <td>0.000000</td>\n",
              "      <td>0.000000</td>\n",
              "      <td>0.000000</td>\n",
              "      <td>0.000000</td>\n",
              "      <td>0.000000</td>\n",
              "    </tr>\n",
              "    <tr>\n",
              "      <th>25%</th>\n",
              "      <td>0.000000</td>\n",
              "      <td>2.000000</td>\n",
              "      <td>0.000000</td>\n",
              "      <td>0.271174</td>\n",
              "      <td>0.000000</td>\n",
              "      <td>0.000000</td>\n",
              "      <td>0.015412</td>\n",
              "    </tr>\n",
              "    <tr>\n",
              "      <th>50%</th>\n",
              "      <td>0.000000</td>\n",
              "      <td>3.000000</td>\n",
              "      <td>1.000000</td>\n",
              "      <td>0.359135</td>\n",
              "      <td>0.000000</td>\n",
              "      <td>0.000000</td>\n",
              "      <td>0.028213</td>\n",
              "    </tr>\n",
              "    <tr>\n",
              "      <th>75%</th>\n",
              "      <td>1.000000</td>\n",
              "      <td>3.000000</td>\n",
              "      <td>1.000000</td>\n",
              "      <td>0.434531</td>\n",
              "      <td>1.000000</td>\n",
              "      <td>0.000000</td>\n",
              "      <td>0.060508</td>\n",
              "    </tr>\n",
              "    <tr>\n",
              "      <th>max</th>\n",
              "      <td>1.000000</td>\n",
              "      <td>3.000000</td>\n",
              "      <td>1.000000</td>\n",
              "      <td>1.000000</td>\n",
              "      <td>8.000000</td>\n",
              "      <td>6.000000</td>\n",
              "      <td>1.000000</td>\n",
              "    </tr>\n",
              "  </tbody>\n",
              "</table>\n",
              "</div>\n",
              "      <button class=\"colab-df-convert\" onclick=\"convertToInteractive('df-c3adabee-099d-4601-8659-dbcbd5a9f12b')\"\n",
              "              title=\"Convert this dataframe to an interactive table.\"\n",
              "              style=\"display:none;\">\n",
              "        \n",
              "  <svg xmlns=\"http://www.w3.org/2000/svg\" height=\"24px\"viewBox=\"0 0 24 24\"\n",
              "       width=\"24px\">\n",
              "    <path d=\"M0 0h24v24H0V0z\" fill=\"none\"/>\n",
              "    <path d=\"M18.56 5.44l.94 2.06.94-2.06 2.06-.94-2.06-.94-.94-2.06-.94 2.06-2.06.94zm-11 1L8.5 8.5l.94-2.06 2.06-.94-2.06-.94L8.5 2.5l-.94 2.06-2.06.94zm10 10l.94 2.06.94-2.06 2.06-.94-2.06-.94-.94-2.06-.94 2.06-2.06.94z\"/><path d=\"M17.41 7.96l-1.37-1.37c-.4-.4-.92-.59-1.43-.59-.52 0-1.04.2-1.43.59L10.3 9.45l-7.72 7.72c-.78.78-.78 2.05 0 2.83L4 21.41c.39.39.9.59 1.41.59.51 0 1.02-.2 1.41-.59l7.78-7.78 2.81-2.81c.8-.78.8-2.07 0-2.86zM5.41 20L4 18.59l7.72-7.72 1.47 1.35L5.41 20z\"/>\n",
              "  </svg>\n",
              "      </button>\n",
              "      \n",
              "  <style>\n",
              "    .colab-df-container {\n",
              "      display:flex;\n",
              "      flex-wrap:wrap;\n",
              "      gap: 12px;\n",
              "    }\n",
              "\n",
              "    .colab-df-convert {\n",
              "      background-color: #E8F0FE;\n",
              "      border: none;\n",
              "      border-radius: 50%;\n",
              "      cursor: pointer;\n",
              "      display: none;\n",
              "      fill: #1967D2;\n",
              "      height: 32px;\n",
              "      padding: 0 0 0 0;\n",
              "      width: 32px;\n",
              "    }\n",
              "\n",
              "    .colab-df-convert:hover {\n",
              "      background-color: #E2EBFA;\n",
              "      box-shadow: 0px 1px 2px rgba(60, 64, 67, 0.3), 0px 1px 3px 1px rgba(60, 64, 67, 0.15);\n",
              "      fill: #174EA6;\n",
              "    }\n",
              "\n",
              "    [theme=dark] .colab-df-convert {\n",
              "      background-color: #3B4455;\n",
              "      fill: #D2E3FC;\n",
              "    }\n",
              "\n",
              "    [theme=dark] .colab-df-convert:hover {\n",
              "      background-color: #434B5C;\n",
              "      box-shadow: 0px 1px 3px 1px rgba(0, 0, 0, 0.15);\n",
              "      filter: drop-shadow(0px 1px 2px rgba(0, 0, 0, 0.3));\n",
              "      fill: #FFFFFF;\n",
              "    }\n",
              "  </style>\n",
              "\n",
              "      <script>\n",
              "        const buttonEl =\n",
              "          document.querySelector('#df-c3adabee-099d-4601-8659-dbcbd5a9f12b button.colab-df-convert');\n",
              "        buttonEl.style.display =\n",
              "          google.colab.kernel.accessAllowed ? 'block' : 'none';\n",
              "\n",
              "        async function convertToInteractive(key) {\n",
              "          const element = document.querySelector('#df-c3adabee-099d-4601-8659-dbcbd5a9f12b');\n",
              "          const dataTable =\n",
              "            await google.colab.kernel.invokeFunction('convertToInteractive',\n",
              "                                                     [key], {});\n",
              "          if (!dataTable) return;\n",
              "\n",
              "          const docLinkHtml = 'Like what you see? Visit the ' +\n",
              "            '<a target=\"_blank\" href=https://colab.research.google.com/notebooks/data_table.ipynb>data table notebook</a>'\n",
              "            + ' to learn more about interactive tables.';\n",
              "          element.innerHTML = '';\n",
              "          dataTable['output_type'] = 'display_data';\n",
              "          await google.colab.output.renderOutput(dataTable, element);\n",
              "          const docLink = document.createElement('div');\n",
              "          docLink.innerHTML = docLinkHtml;\n",
              "          element.appendChild(docLink);\n",
              "        }\n",
              "      </script>\n",
              "    </div>\n",
              "  </div>\n",
              "  "
            ]
          },
          "metadata": {},
          "execution_count": 36
        }
      ],
      "source": [
        "df1.describe()"
      ]
    },
    {
      "cell_type": "markdown",
      "id": "stainless-wildlife",
      "metadata": {
        "papermill": {
          "duration": 0.073532,
          "end_time": "2022-02-02T16:49:55.616643",
          "exception": false,
          "start_time": "2022-02-02T16:49:55.543111",
          "status": "completed"
        },
        "tags": [],
        "id": "stainless-wildlife"
      },
      "source": [
        "## Data Modelling"
      ]
    },
    {
      "cell_type": "code",
      "execution_count": null,
      "id": "closed-parameter",
      "metadata": {
        "execution": {
          "iopub.execute_input": "2022-02-02T16:49:55.763629Z",
          "iopub.status.busy": "2022-02-02T16:49:55.762952Z",
          "iopub.status.idle": "2022-02-02T16:49:55.992488Z",
          "shell.execute_reply": "2022-02-02T16:49:55.991858Z",
          "shell.execute_reply.started": "2022-02-02T16:47:29.447129Z"
        },
        "papermill": {
          "duration": 0.303116,
          "end_time": "2022-02-02T16:49:55.992638",
          "exception": false,
          "start_time": "2022-02-02T16:49:55.689522",
          "status": "completed"
        },
        "tags": [],
        "id": "closed-parameter"
      },
      "outputs": [],
      "source": [
        "from sklearn.model_selection import train_test_split"
      ]
    },
    {
      "cell_type": "code",
      "execution_count": null,
      "id": "cutting-gnome",
      "metadata": {
        "execution": {
          "iopub.execute_input": "2022-02-02T16:49:56.147746Z",
          "iopub.status.busy": "2022-02-02T16:49:56.147018Z",
          "iopub.status.idle": "2022-02-02T16:49:56.153498Z",
          "shell.execute_reply": "2022-02-02T16:49:56.152771Z",
          "shell.execute_reply.started": "2022-02-02T16:47:29.653541Z"
        },
        "papermill": {
          "duration": 0.088364,
          "end_time": "2022-02-02T16:49:56.153678",
          "exception": false,
          "start_time": "2022-02-02T16:49:56.065314",
          "status": "completed"
        },
        "tags": [],
        "id": "cutting-gnome"
      },
      "outputs": [],
      "source": [
        "X_train, X_test, y_train, y_test = train_test_split(\n",
        "    df1.drop(['Survived'], axis=1),\n",
        "    df1.Survived,\n",
        "    test_size= 0.2,\n",
        "    random_state=0,\n",
        "    stratify=df1.Survived\n",
        ")"
      ]
    },
    {
      "cell_type": "markdown",
      "id": "worst-fashion",
      "metadata": {
        "papermill": {
          "duration": 0.07024,
          "end_time": "2022-02-02T16:49:56.294413",
          "exception": false,
          "start_time": "2022-02-02T16:49:56.224173",
          "status": "completed"
        },
        "tags": [],
        "id": "worst-fashion"
      },
      "source": [
        "- **Logistic Regression**"
      ]
    },
    {
      "cell_type": "markdown",
      "source": [
        "![image.png](data:image/png;base64,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)"
      ],
      "metadata": {
        "id": "2ZwXfvvnMLHM"
      },
      "id": "2ZwXfvvnMLHM"
    },
    {
      "cell_type": "code",
      "execution_count": null,
      "id": "following-hybrid",
      "metadata": {
        "execution": {
          "iopub.execute_input": "2022-02-02T16:49:56.439961Z",
          "iopub.status.busy": "2022-02-02T16:49:56.438920Z",
          "iopub.status.idle": "2022-02-02T16:49:56.579829Z",
          "shell.execute_reply": "2022-02-02T16:49:56.579139Z",
          "shell.execute_reply.started": "2022-02-02T16:47:29.665234Z"
        },
        "papermill": {
          "duration": 0.213463,
          "end_time": "2022-02-02T16:49:56.579983",
          "exception": false,
          "start_time": "2022-02-02T16:49:56.366520",
          "status": "completed"
        },
        "scrolled": true,
        "tags": [],
        "id": "following-hybrid",
        "outputId": "160b21c4-d4a1-413c-b6f2-58354d5356ee",
        "colab": {
          "base_uri": "https://localhost:8080/"
        }
      },
      "outputs": [
        {
          "output_type": "execute_result",
          "data": {
            "text/plain": [
              "LogisticRegression()"
            ]
          },
          "metadata": {},
          "execution_count": 40
        }
      ],
      "source": [
        "# Logistic regression\n",
        "from sklearn.linear_model import LogisticRegression\n",
        "clf = LogisticRegression()\n",
        "clf.fit(X_train, y_train)\n",
        "\n"
      ]
    },
    {
      "cell_type": "code",
      "source": [
        "from sklearn.metrics import accuracy_score\n",
        "\n",
        "Y_pred = clf.predict(X_test)\n",
        "accuracy_score(y_test, Y_pred)"
      ],
      "metadata": {
        "id": "HRxa-2yVfDwQ",
        "outputId": "55c4b48f-5bd5-4728-da4b-7bd6a328b42a",
        "colab": {
          "base_uri": "https://localhost:8080/"
        }
      },
      "id": "HRxa-2yVfDwQ",
      "execution_count": null,
      "outputs": [
        {
          "output_type": "execute_result",
          "data": {
            "text/plain": [
              "0.8370786516853933"
            ]
          },
          "metadata": {},
          "execution_count": 42
        }
      ]
    },
    {
      "cell_type": "code",
      "source": [
        "Y_pred"
      ],
      "metadata": {
        "id": "Py8cagSjL270",
        "outputId": "e8c6ad28-bbc3-41a9-da7e-f0c1e81a6b1c",
        "colab": {
          "base_uri": "https://localhost:8080/"
        }
      },
      "id": "Py8cagSjL270",
      "execution_count": null,
      "outputs": [
        {
          "output_type": "execute_result",
          "data": {
            "text/plain": [
              "array([0, 0, 0, 0, 1, 0, 0, 0, 1, 0, 0, 0, 0, 0, 0, 1, 0, 1, 1, 1, 0, 1,\n",
              "       0, 1, 0, 1, 0, 1, 1, 0, 1, 0, 0, 0, 1, 0, 1, 1, 0, 0, 0, 1, 0, 0,\n",
              "       0, 0, 1, 0, 0, 0, 0, 1, 0, 1, 0, 0, 0, 0, 0, 0, 0, 0, 1, 1, 0, 0,\n",
              "       1, 0, 1, 0, 0, 1, 1, 0, 1, 0, 0, 1, 1, 1, 0, 1, 0, 0, 0, 1, 0, 0,\n",
              "       1, 1, 1, 1, 1, 0, 1, 0, 1, 0, 0, 0, 1, 0, 1, 0, 1, 1, 0, 0, 0, 1,\n",
              "       0, 0, 1, 0, 0, 1, 0, 0, 0, 1, 1, 0, 0, 0, 0, 1, 0, 0, 1, 0, 0, 1,\n",
              "       0, 0, 1, 0, 0, 1, 0, 0, 0, 0, 0, 1, 1, 1, 0, 0, 0, 0, 0, 1, 1, 1,\n",
              "       1, 1, 0, 0, 1, 1, 0, 1, 0, 1, 0, 0, 1, 0, 0, 0, 0, 0, 0, 0, 0, 0,\n",
              "       0, 0])"
            ]
          },
          "metadata": {},
          "execution_count": 43
        }
      ]
    },
    {
      "cell_type": "code",
      "source": [
        "np.array(y_test)"
      ],
      "metadata": {
        "id": "tk4NsdfnfYST",
        "outputId": "ce64f951-9105-4526-8a86-2f2f7aac796a",
        "colab": {
          "base_uri": "https://localhost:8080/"
        }
      },
      "id": "tk4NsdfnfYST",
      "execution_count": null,
      "outputs": [
        {
          "output_type": "execute_result",
          "data": {
            "text/plain": [
              "array([0, 0, 0, 0, 1, 0, 0, 0, 0, 1, 0, 0, 1, 0, 0, 1, 1, 1, 0, 1, 1, 1,\n",
              "       0, 1, 0, 1, 0, 1, 1, 0, 0, 0, 1, 0, 1, 0, 1, 0, 1, 0, 0, 1, 1, 0,\n",
              "       0, 0, 1, 1, 0, 0, 0, 0, 0, 1, 0, 0, 0, 0, 1, 1, 0, 0, 0, 1, 0, 0,\n",
              "       1, 0, 1, 0, 1, 1, 0, 0, 0, 0, 0, 1, 1, 1, 0, 1, 0, 0, 0, 1, 0, 0,\n",
              "       1, 1, 1, 1, 1, 0, 0, 0, 1, 0, 0, 0, 1, 0, 1, 0, 1, 1, 0, 0, 0, 1,\n",
              "       0, 0, 1, 0, 0, 1, 0, 0, 0, 1, 1, 0, 0, 0, 1, 1, 0, 0, 1, 0, 0, 1,\n",
              "       0, 0, 0, 0, 1, 0, 0, 0, 0, 1, 0, 1, 1, 1, 0, 0, 0, 0, 0, 1, 1, 1,\n",
              "       1, 0, 0, 0, 1, 1, 0, 0, 0, 1, 1, 0, 1, 0, 0, 0, 0, 0, 0, 0, 1, 0,\n",
              "       0, 0])"
            ]
          },
          "metadata": {},
          "execution_count": 44
        }
      ]
    },
    {
      "cell_type": "markdown",
      "id": "exact-cosmetic",
      "metadata": {
        "papermill": {
          "duration": 0.070496,
          "end_time": "2022-02-02T16:49:56.723338",
          "exception": false,
          "start_time": "2022-02-02T16:49:56.652842",
          "status": "completed"
        },
        "tags": [],
        "id": "exact-cosmetic"
      },
      "source": [
        "## Confusion Matrix"
      ]
    },
    {
      "cell_type": "code",
      "execution_count": null,
      "id": "tired-quantum",
      "metadata": {
        "execution": {
          "iopub.execute_input": "2022-02-02T16:49:56.871947Z",
          "iopub.status.busy": "2022-02-02T16:49:56.870959Z",
          "iopub.status.idle": "2022-02-02T16:49:56.880614Z",
          "shell.execute_reply": "2022-02-02T16:49:56.881189Z",
          "shell.execute_reply.started": "2022-02-02T16:47:29.793208Z"
        },
        "papermill": {
          "duration": 0.087546,
          "end_time": "2022-02-02T16:49:56.881363",
          "exception": false,
          "start_time": "2022-02-02T16:49:56.793817",
          "status": "completed"
        },
        "tags": [],
        "id": "tired-quantum",
        "outputId": "7d386d85-d49a-4c24-eeaf-d045f1c6ba7c",
        "colab": {
          "base_uri": "https://localhost:8080/"
        }
      },
      "outputs": [
        {
          "output_type": "execute_result",
          "data": {
            "text/plain": [
              "array([[97, 13],\n",
              "       [16, 52]])"
            ]
          },
          "metadata": {},
          "execution_count": 45
        }
      ],
      "source": [
        "from sklearn.metrics import confusion_matrix\n",
        "cm=confusion_matrix(y_test, Y_pred)\n",
        "cm"
      ]
    },
    {
      "cell_type": "code",
      "source": [
        " sns.heatmap(cm, annot=True,cmap='Blues')"
      ],
      "metadata": {
        "colab": {
          "base_uri": "https://localhost:8080/",
          "height": 514
        },
        "id": "_wfDltB_9pOJ",
        "outputId": "fc615608-f840-4f89-b337-39be6c5b5554"
      },
      "id": "_wfDltB_9pOJ",
      "execution_count": null,
      "outputs": [
        {
          "output_type": "execute_result",
          "data": {
            "text/plain": [
              "<matplotlib.axes._subplots.AxesSubplot at 0x7f22118cc430>"
            ]
          },
          "metadata": {},
          "execution_count": 46
        },
        {
          "output_type": "display_data",
          "data": {
            "text/plain": [
              "<Figure size 842.4x595.44 with 2 Axes>"
            ],
            "image/png": "[encoded data removed]"
          },
          "metadata": {
            "needs_background": "light"
          }
        }
      ]
    },
    {
      "cell_type": "code",
      "source": [
        "def make_confusion_matrix(cf,\n",
        "                          group_names=None,\n",
        "                          categories='auto',\n",
        "                          count=True,\n",
        "                          percent=True,\n",
        "                          cbar=True,\n",
        "                          xyticks=True,\n",
        "                          xyplotlabels=True,\n",
        "                          sum_stats=True,\n",
        "                          figsize=None,\n",
        "                          cmap='Blues',\n",
        "                          title=None):\n",
        "    '''\n",
        "    This function will make a pretty plot of an sklearn Confusion Matrix cm using a Seaborn heatmap visualization.\n",
        "    Arguments\n",
        "    ---------\n",
        "    cf:            confusion matrix to be passed in\n",
        "    group_names:   List of strings that represent the labels row by row to be shown in each square.\n",
        "    categories:    List of strings containing the categories to be displayed on the x,y axis. Default is 'auto'\n",
        "    count:         If True, show the raw number in the confusion matrix. Default is True.\n",
        "    normalize:     If True, show the proportions for each category. Default is True.\n",
        "    cbar:          If True, show the color bar. The cbar values are based off the values in the confusion matrix.\n",
        "                   Default is True.\n",
        "    xyticks:       If True, show x and y ticks. Default is True.\n",
        "    xyplotlabels:  If True, show 'True Label' and 'Predicted Label' on the figure. Default is True.\n",
        "    sum_stats:     If True, display summary statistics below the figure. Default is True.\n",
        "    figsize:       Tuple representing the figure size. Default will be the matplotlib rcParams value.\n",
        "    cmap:          Colormap of the values displayed from matplotlib.pyplot.cm. Default is 'Blues'\n",
        "                   See http://matplotlib.org/examples/color/colormaps_reference.html\n",
        "\n",
        "    title:         Title for the heatmap. Default is None.\n",
        "    '''\n",
        "\n",
        "\n",
        "    # CODE TO GENERATE TEXT INSIDE EACH SQUARE\n",
        "    blanks = ['' for i in range(cf.size)]\n",
        "\n",
        "    if group_names and len(group_names)==cf.size:\n",
        "        group_labels = [\"{}\\n\".format(value) for value in group_names]\n",
        "    else:\n",
        "        group_labels = blanks\n",
        "\n",
        "    if count:\n",
        "        group_counts = [\"{0:0.0f}\\n\".format(value) for value in cf.flatten()]\n",
        "    else:\n",
        "        group_counts = blanks\n",
        "\n",
        "    if percent:\n",
        "        group_percentages = [\"{0:.2%}\".format(value) for value in cf.flatten()/np.sum(cf)]\n",
        "    else:\n",
        "        group_percentages = blanks\n",
        "\n",
        "    box_labels = [f\"{v1}{v2}{v3}\".strip() for v1, v2, v3 in zip(group_labels,group_counts,group_percentages)]\n",
        "    box_labels = np.asarray(box_labels).reshape(cf.shape[0],cf.shape[1])\n",
        "\n",
        "\n",
        "    # CODE TO GENERATE SUMMARY STATISTICS & TEXT FOR SUMMARY STATS\n",
        "    if sum_stats:\n",
        "        #Accuracy is sum of diagonal divided by total observations\n",
        "        accuracy  = np.trace(cf) / float(np.sum(cf))\n",
        "\n",
        "        #if it is a binary confusion matrix, show some more stats\n",
        "        if len(cf)==2:\n",
        "            #Metrics for Binary Confusion Matrices\n",
        "            precision = cf[1,1] / sum(cf[:,1])\n",
        "            recall    = cf[1,1] / sum(cf[1,:])\n",
        "            f1_score  = 2*precision*recall / (precision + recall)\n",
        "            stats_text = \"\\n\\nAccuracy={:0.3f}\\nPrecision={:0.3f}\\nRecall={:0.3f}\\nF1 Score={:0.3f}\".format(\n",
        "                accuracy,precision,recall,f1_score)\n",
        "        else:\n",
        "            stats_text = \"\\n\\nAccuracy={:0.3f}\".format(accuracy)\n",
        "    else:\n",
        "        stats_text = \"\"\n",
        "\n",
        "\n",
        "    # SET FIGURE PARAMETERS ACCORDING TO OTHER ARGUMENTS\n",
        "    if figsize==None:\n",
        "        #Get default figure size if not set\n",
        "        figsize = plt.rcParams.get('figure.figsize')\n",
        "\n",
        "    if xyticks==False:\n",
        "        #Do not show categories if xyticks is False\n",
        "        categories=False\n",
        "\n",
        "\n",
        "    # MAKE THE HEATMAP VISUALIZATION\n",
        "    plt.figure(figsize=figsize)\n",
        "    sns.heatmap(cf,annot=box_labels,fmt=\"\",cmap=cmap,cbar=cbar,xticklabels=categories,yticklabels=categories)\n",
        "\n",
        "    if xyplotlabels:\n",
        "        plt.ylabel('True label')\n",
        "        plt.xlabel('Predicted label' + stats_text)\n",
        "    else:\n",
        "        plt.xlabel(stats_text)\n",
        "\n",
        "    if title:\n",
        "        plt.title(title)"
      ],
      "metadata": {
        "id": "CqSheLzy6e8E"
      },
      "id": "CqSheLzy6e8E",
      "execution_count": null,
      "outputs": []
    },
    {
      "cell_type": "code",
      "source": [
        "labels = ['True Neg','False Pos','False Neg','True Pos']\n",
        "categories = ['Survived', 'Not Suvived']\n",
        "make_confusion_matrix(cm, group_names=labels, categories=categories, cmap='binary', title='CF Matrix - Titanic')"
      ],
      "metadata": {
        "colab": {
          "base_uri": "https://localhost:8080/",
          "height": 585
        },
        "id": "BR4U-pNd9Cd4",
        "outputId": "1021e038-9a5b-470c-928f-0a13994dc5a4"
      },
      "id": "BR4U-pNd9Cd4",
      "execution_count": null,
      "outputs": [
        {
          "output_type": "display_data",
          "data": {
            "text/plain": [
              "<Figure size 842.4x595.44 with 2 Axes>"
            ],
            "image/png": "[encoded data removed]"
          },
          "metadata": {
            "needs_background": "light"
          }
        }
      ]
    },
    {
      "cell_type": "markdown",
      "id": "hybrid-julian",
      "metadata": {
        "papermill": {
          "duration": 0.074547,
          "end_time": "2022-02-02T16:49:57.464195",
          "exception": false,
          "start_time": "2022-02-02T16:49:57.389648",
          "status": "completed"
        },
        "tags": [],
        "id": "hybrid-julian"
      },
      "source": [
        "## Cleaning test dataset"
      ]
    },
    {
      "cell_type": "code",
      "execution_count": null,
      "id": "published-piano",
      "metadata": {
        "execution": {
          "iopub.execute_input": "2022-02-02T16:49:57.616707Z",
          "iopub.status.busy": "2022-02-02T16:49:57.615822Z",
          "iopub.status.idle": "2022-02-02T16:49:57.632227Z",
          "shell.execute_reply": "2022-02-02T16:49:57.632762Z",
          "shell.execute_reply.started": "2022-02-02T16:47:30.049821Z"
        },
        "papermill": {
          "duration": 0.095657,
          "end_time": "2022-02-02T16:49:57.632942",
          "exception": false,
          "start_time": "2022-02-02T16:49:57.537285",
          "status": "completed"
        },
        "scrolled": true,
        "tags": [],
        "id": "published-piano",
        "outputId": "1163bc28-47de-4b8d-f3db-cae079520db6",
        "colab": {
          "base_uri": "https://localhost:8080/",
          "height": 206
        }
      },
      "outputs": [
        {
          "output_type": "execute_result",
          "data": {
            "text/plain": [
              "   PassengerId  Pclass                                          Name     Sex  \\\n",
              "0          892       3                              Kelly, Mr. James    male   \n",
              "1          893       3              Wilkes, Mrs. James (Ellen Needs)  female   \n",
              "2          894       2                     Myles, Mr. Thomas Francis    male   \n",
              "3          895       3                              Wirz, Mr. Albert    male   \n",
              "4          896       3  Hirvonen, Mrs. Alexander (Helga E Lindqvist)  female   \n",
              "\n",
              "    Age  SibSp  Parch   Ticket     Fare Cabin Embarked  \n",
              "0  34.5      0      0   330911   7.8292   NaN        Q  \n",
              "1  47.0      1      0   363272   7.0000   NaN        S  \n",
              "2  62.0      0      0   240276   9.6875   NaN        Q  \n",
              "3  27.0      0      0   315154   8.6625   NaN        S  \n",
              "4  22.0      1      1  3101298  12.2875   NaN        S  "
            ],
            "text/html": [
              "\n",
              "  <div id=\"df-ff31b0c8-91ba-4a0c-aa22-dd111233ee8a\">\n",
              "    <div class=\"colab-df-container\">\n",
              "      <div>\n",
              "<style scoped>\n",
              "    .dataframe tbody tr th:only-of-type {\n",
              "        vertical-align: middle;\n",
              "    }\n",
              "\n",
              "    .dataframe tbody tr th {\n",
              "        vertical-align: top;\n",
              "    }\n",
              "\n",
              "    .dataframe thead th {\n",
              "        text-align: right;\n",
              "    }\n",
              "</style>\n",
              "<table border=\"1\" class=\"dataframe\">\n",
              "  <thead>\n",
              "    <tr style=\"text-align: right;\">\n",
              "      <th></th>\n",
              "      <th>PassengerId</th>\n",
              "      <th>Pclass</th>\n",
              "      <th>Name</th>\n",
              "      <th>Sex</th>\n",
              "      <th>Age</th>\n",
              "      <th>SibSp</th>\n",
              "      <th>Parch</th>\n",
              "      <th>Ticket</th>\n",
              "      <th>Fare</th>\n",
              "      <th>Cabin</th>\n",
              "      <th>Embarked</th>\n",
              "    </tr>\n",
              "  </thead>\n",
              "  <tbody>\n",
              "    <tr>\n",
              "      <th>0</th>\n",
              "      <td>892</td>\n",
              "      <td>3</td>\n",
              "      <td>Kelly, Mr. James</td>\n",
              "      <td>male</td>\n",
              "      <td>34.5</td>\n",
              "      <td>0</td>\n",
              "      <td>0</td>\n",
              "      <td>330911</td>\n",
              "      <td>7.8292</td>\n",
              "      <td>NaN</td>\n",
              "      <td>Q</td>\n",
              "    </tr>\n",
              "    <tr>\n",
              "      <th>1</th>\n",
              "      <td>893</td>\n",
              "      <td>3</td>\n",
              "      <td>Wilkes, Mrs. James (Ellen Needs)</td>\n",
              "      <td>female</td>\n",
              "      <td>47.0</td>\n",
              "      <td>1</td>\n",
              "      <td>0</td>\n",
              "      <td>363272</td>\n",
              "      <td>7.0000</td>\n",
              "      <td>NaN</td>\n",
              "      <td>S</td>\n",
              "    </tr>\n",
              "    <tr>\n",
              "      <th>2</th>\n",
              "      <td>894</td>\n",
              "      <td>2</td>\n",
              "      <td>Myles, Mr. Thomas Francis</td>\n",
              "      <td>male</td>\n",
              "      <td>62.0</td>\n",
              "      <td>0</td>\n",
              "      <td>0</td>\n",
              "      <td>240276</td>\n",
              "      <td>9.6875</td>\n",
              "      <td>NaN</td>\n",
              "      <td>Q</td>\n",
              "    </tr>\n",
              "    <tr>\n",
              "      <th>3</th>\n",
              "      <td>895</td>\n",
              "      <td>3</td>\n",
              "      <td>Wirz, Mr. Albert</td>\n",
              "      <td>male</td>\n",
              "      <td>27.0</td>\n",
              "      <td>0</td>\n",
              "      <td>0</td>\n",
              "      <td>315154</td>\n",
              "      <td>8.6625</td>\n",
              "      <td>NaN</td>\n",
              "      <td>S</td>\n",
              "    </tr>\n",
              "    <tr>\n",
              "      <th>4</th>\n",
              "      <td>896</td>\n",
              "      <td>3</td>\n",
              "      <td>Hirvonen, Mrs. Alexander (Helga E Lindqvist)</td>\n",
              "      <td>female</td>\n",
              "      <td>22.0</td>\n",
              "      <td>1</td>\n",
              "      <td>1</td>\n",
              "      <td>3101298</td>\n",
              "      <td>12.2875</td>\n",
              "      <td>NaN</td>\n",
              "      <td>S</td>\n",
              "    </tr>\n",
              "  </tbody>\n",
              "</table>\n",
              "</div>\n",
              "      <button class=\"colab-df-convert\" onclick=\"convertToInteractive('df-ff31b0c8-91ba-4a0c-aa22-dd111233ee8a')\"\n",
              "              title=\"Convert this dataframe to an interactive table.\"\n",
              "              style=\"display:none;\">\n",
              "        \n",
              "  <svg xmlns=\"http://www.w3.org/2000/svg\" height=\"24px\"viewBox=\"0 0 24 24\"\n",
              "       width=\"24px\">\n",
              "    <path d=\"M0 0h24v24H0V0z\" fill=\"none\"/>\n",
              "    <path d=\"M18.56 5.44l.94 2.06.94-2.06 2.06-.94-2.06-.94-.94-2.06-.94 2.06-2.06.94zm-11 1L8.5 8.5l.94-2.06 2.06-.94-2.06-.94L8.5 2.5l-.94 2.06-2.06.94zm10 10l.94 2.06.94-2.06 2.06-.94-2.06-.94-.94-2.06-.94 2.06-2.06.94z\"/><path d=\"M17.41 7.96l-1.37-1.37c-.4-.4-.92-.59-1.43-.59-.52 0-1.04.2-1.43.59L10.3 9.45l-7.72 7.72c-.78.78-.78 2.05 0 2.83L4 21.41c.39.39.9.59 1.41.59.51 0 1.02-.2 1.41-.59l7.78-7.78 2.81-2.81c.8-.78.8-2.07 0-2.86zM5.41 20L4 18.59l7.72-7.72 1.47 1.35L5.41 20z\"/>\n",
              "  </svg>\n",
              "      </button>\n",
              "      \n",
              "  <style>\n",
              "    .colab-df-container {\n",
              "      display:flex;\n",
              "      flex-wrap:wrap;\n",
              "      gap: 12px;\n",
              "    }\n",
              "\n",
              "    .colab-df-convert {\n",
              "      background-color: #E8F0FE;\n",
              "      border: none;\n",
              "      border-radius: 50%;\n",
              "      cursor: pointer;\n",
              "      display: none;\n",
              "      fill: #1967D2;\n",
              "      height: 32px;\n",
              "      padding: 0 0 0 0;\n",
              "      width: 32px;\n",
              "    }\n",
              "\n",
              "    .colab-df-convert:hover {\n",
              "      background-color: #E2EBFA;\n",
              "      box-shadow: 0px 1px 2px rgba(60, 64, 67, 0.3), 0px 1px 3px 1px rgba(60, 64, 67, 0.15);\n",
              "      fill: #174EA6;\n",
              "    }\n",
              "\n",
              "    [theme=dark] .colab-df-convert {\n",
              "      background-color: #3B4455;\n",
              "      fill: #D2E3FC;\n",
              "    }\n",
              "\n",
              "    [theme=dark] .colab-df-convert:hover {\n",
              "      background-color: #434B5C;\n",
              "      box-shadow: 0px 1px 3px 1px rgba(0, 0, 0, 0.15);\n",
              "      filter: drop-shadow(0px 1px 2px rgba(0, 0, 0, 0.3));\n",
              "      fill: #FFFFFF;\n",
              "    }\n",
              "  </style>\n",
              "\n",
              "      <script>\n",
              "        const buttonEl =\n",
              "          document.querySelector('#df-ff31b0c8-91ba-4a0c-aa22-dd111233ee8a button.colab-df-convert');\n",
              "        buttonEl.style.display =\n",
              "          google.colab.kernel.accessAllowed ? 'block' : 'none';\n",
              "\n",
              "        async function convertToInteractive(key) {\n",
              "          const element = document.querySelector('#df-ff31b0c8-91ba-4a0c-aa22-dd111233ee8a');\n",
              "          const dataTable =\n",
              "            await google.colab.kernel.invokeFunction('convertToInteractive',\n",
              "                                                     [key], {});\n",
              "          if (!dataTable) return;\n",
              "\n",
              "          const docLinkHtml = 'Like what you see? Visit the ' +\n",
              "            '<a target=\"_blank\" href=https://colab.research.google.com/notebooks/data_table.ipynb>data table notebook</a>'\n",
              "            + ' to learn more about interactive tables.';\n",
              "          element.innerHTML = '';\n",
              "          dataTable['output_type'] = 'display_data';\n",
              "          await google.colab.output.renderOutput(dataTable, element);\n",
              "          const docLink = document.createElement('div');\n",
              "          docLink.innerHTML = docLinkHtml;\n",
              "          element.appendChild(docLink);\n",
              "        }\n",
              "      </script>\n",
              "    </div>\n",
              "  </div>\n",
              "  "
            ]
          },
          "metadata": {},
          "execution_count": 49
        }
      ],
      "source": [
        "# test dataset\n",
        "test.head()"
      ]
    },
    {
      "cell_type": "code",
      "execution_count": null,
      "id": "laden-separation",
      "metadata": {
        "execution": {
          "iopub.execute_input": "2022-02-02T16:49:58.280712Z",
          "iopub.status.busy": "2022-02-02T16:49:58.280049Z",
          "iopub.status.idle": "2022-02-02T16:49:58.281670Z",
          "shell.execute_reply": "2022-02-02T16:49:58.282203Z",
          "shell.execute_reply.started": "2022-02-02T16:47:30.110127Z"
        },
        "papermill": {
          "duration": 0.082479,
          "end_time": "2022-02-02T16:49:58.282380",
          "exception": false,
          "start_time": "2022-02-02T16:49:58.199901",
          "status": "completed"
        },
        "tags": [],
        "id": "laden-separation"
      },
      "outputs": [],
      "source": [
        "# dropping unwanted columns\n",
        "df2=test.drop(['PassengerId','Name','Ticket','Cabin'], axis=1)"
      ]
    },
    {
      "cell_type": "code",
      "execution_count": null,
      "id": "respected-bleeding",
      "metadata": {
        "execution": {
          "iopub.execute_input": "2022-02-02T16:49:58.436240Z",
          "iopub.status.busy": "2022-02-02T16:49:58.435243Z",
          "iopub.status.idle": "2022-02-02T16:49:58.455655Z",
          "shell.execute_reply": "2022-02-02T16:49:58.456271Z",
          "shell.execute_reply.started": "2022-02-02T16:47:30.119267Z"
        },
        "papermill": {
          "duration": 0.099401,
          "end_time": "2022-02-02T16:49:58.456440",
          "exception": false,
          "start_time": "2022-02-02T16:49:58.357039",
          "status": "completed"
        },
        "tags": [],
        "id": "respected-bleeding",
        "outputId": "ed4d965a-5a86-4985-b305-15639a5f64be",
        "colab": {
          "base_uri": "https://localhost:8080/",
          "height": 206
        }
      },
      "outputs": [
        {
          "output_type": "execute_result",
          "data": {
            "text/plain": [
              "   Pclass  Sex   Age  SibSp  Parch     Fare Embarked\n",
              "0       3    1  34.5      0      0   7.8292        2\n",
              "1       3    0  47.0      1      0   7.0000        0\n",
              "2       2    1  62.0      0      0   9.6875        2\n",
              "3       3    1  27.0      0      0   8.6625        0\n",
              "4       3    0  22.0      1      1  12.2875        0"
            ],
            "text/html": [
              "\n",
              "  <div id=\"df-6d5d7b1d-f47b-49a9-8258-811fa0465db6\">\n",
              "    <div class=\"colab-df-container\">\n",
              "      <div>\n",
              "<style scoped>\n",
              "    .dataframe tbody tr th:only-of-type {\n",
              "        vertical-align: middle;\n",
              "    }\n",
              "\n",
              "    .dataframe tbody tr th {\n",
              "        vertical-align: top;\n",
              "    }\n",
              "\n",
              "    .dataframe thead th {\n",
              "        text-align: right;\n",
              "    }\n",
              "</style>\n",
              "<table border=\"1\" class=\"dataframe\">\n",
              "  <thead>\n",
              "    <tr style=\"text-align: right;\">\n",
              "      <th></th>\n",
              "      <th>Pclass</th>\n",
              "      <th>Sex</th>\n",
              "      <th>Age</th>\n",
              "      <th>SibSp</th>\n",
              "      <th>Parch</th>\n",
              "      <th>Fare</th>\n",
              "      <th>Embarked</th>\n",
              "    </tr>\n",
              "  </thead>\n",
              "  <tbody>\n",
              "    <tr>\n",
              "      <th>0</th>\n",
              "      <td>3</td>\n",
              "      <td>1</td>\n",
              "      <td>34.5</td>\n",
              "      <td>0</td>\n",
              "      <td>0</td>\n",
              "      <td>7.8292</td>\n",
              "      <td>2</td>\n",
              "    </tr>\n",
              "    <tr>\n",
              "      <th>1</th>\n",
              "      <td>3</td>\n",
              "      <td>0</td>\n",
              "      <td>47.0</td>\n",
              "      <td>1</td>\n",
              "      <td>0</td>\n",
              "      <td>7.0000</td>\n",
              "      <td>0</td>\n",
              "    </tr>\n",
              "    <tr>\n",
              "      <th>2</th>\n",
              "      <td>2</td>\n",
              "      <td>1</td>\n",
              "      <td>62.0</td>\n",
              "      <td>0</td>\n",
              "      <td>0</td>\n",
              "      <td>9.6875</td>\n",
              "      <td>2</td>\n",
              "    </tr>\n",
              "    <tr>\n",
              "      <th>3</th>\n",
              "      <td>3</td>\n",
              "      <td>1</td>\n",
              "      <td>27.0</td>\n",
              "      <td>0</td>\n",
              "      <td>0</td>\n",
              "      <td>8.6625</td>\n",
              "      <td>0</td>\n",
              "    </tr>\n",
              "    <tr>\n",
              "      <th>4</th>\n",
              "      <td>3</td>\n",
              "      <td>0</td>\n",
              "      <td>22.0</td>\n",
              "      <td>1</td>\n",
              "      <td>1</td>\n",
              "      <td>12.2875</td>\n",
              "      <td>0</td>\n",
              "    </tr>\n",
              "  </tbody>\n",
              "</table>\n",
              "</div>\n",
              "      <button class=\"colab-df-convert\" onclick=\"convertToInteractive('df-6d5d7b1d-f47b-49a9-8258-811fa0465db6')\"\n",
              "              title=\"Convert this dataframe to an interactive table.\"\n",
              "              style=\"display:none;\">\n",
              "        \n",
              "  <svg xmlns=\"http://www.w3.org/2000/svg\" height=\"24px\"viewBox=\"0 0 24 24\"\n",
              "       width=\"24px\">\n",
              "    <path d=\"M0 0h24v24H0V0z\" fill=\"none\"/>\n",
              "    <path d=\"M18.56 5.44l.94 2.06.94-2.06 2.06-.94-2.06-.94-.94-2.06-.94 2.06-2.06.94zm-11 1L8.5 8.5l.94-2.06 2.06-.94-2.06-.94L8.5 2.5l-.94 2.06-2.06.94zm10 10l.94 2.06.94-2.06 2.06-.94-2.06-.94-.94-2.06-.94 2.06-2.06.94z\"/><path d=\"M17.41 7.96l-1.37-1.37c-.4-.4-.92-.59-1.43-.59-.52 0-1.04.2-1.43.59L10.3 9.45l-7.72 7.72c-.78.78-.78 2.05 0 2.83L4 21.41c.39.39.9.59 1.41.59.51 0 1.02-.2 1.41-.59l7.78-7.78 2.81-2.81c.8-.78.8-2.07 0-2.86zM5.41 20L4 18.59l7.72-7.72 1.47 1.35L5.41 20z\"/>\n",
              "  </svg>\n",
              "      </button>\n",
              "      \n",
              "  <style>\n",
              "    .colab-df-container {\n",
              "      display:flex;\n",
              "      flex-wrap:wrap;\n",
              "      gap: 12px;\n",
              "    }\n",
              "\n",
              "    .colab-df-convert {\n",
              "      background-color: #E8F0FE;\n",
              "      border: none;\n",
              "      border-radius: 50%;\n",
              "      cursor: pointer;\n",
              "      display: none;\n",
              "      fill: #1967D2;\n",
              "      height: 32px;\n",
              "      padding: 0 0 0 0;\n",
              "      width: 32px;\n",
              "    }\n",
              "\n",
              "    .colab-df-convert:hover {\n",
              "      background-color: #E2EBFA;\n",
              "      box-shadow: 0px 1px 2px rgba(60, 64, 67, 0.3), 0px 1px 3px 1px rgba(60, 64, 67, 0.15);\n",
              "      fill: #174EA6;\n",
              "    }\n",
              "\n",
              "    [theme=dark] .colab-df-convert {\n",
              "      background-color: #3B4455;\n",
              "      fill: #D2E3FC;\n",
              "    }\n",
              "\n",
              "    [theme=dark] .colab-df-convert:hover {\n",
              "      background-color: #434B5C;\n",
              "      box-shadow: 0px 1px 3px 1px rgba(0, 0, 0, 0.15);\n",
              "      filter: drop-shadow(0px 1px 2px rgba(0, 0, 0, 0.3));\n",
              "      fill: #FFFFFF;\n",
              "    }\n",
              "  </style>\n",
              "\n",
              "      <script>\n",
              "        const buttonEl =\n",
              "          document.querySelector('#df-6d5d7b1d-f47b-49a9-8258-811fa0465db6 button.colab-df-convert');\n",
              "        buttonEl.style.display =\n",
              "          google.colab.kernel.accessAllowed ? 'block' : 'none';\n",
              "\n",
              "        async function convertToInteractive(key) {\n",
              "          const element = document.querySelector('#df-6d5d7b1d-f47b-49a9-8258-811fa0465db6');\n",
              "          const dataTable =\n",
              "            await google.colab.kernel.invokeFunction('convertToInteractive',\n",
              "                                                     [key], {});\n",
              "          if (!dataTable) return;\n",
              "\n",
              "          const docLinkHtml = 'Like what you see? Visit the ' +\n",
              "            '<a target=\"_blank\" href=https://colab.research.google.com/notebooks/data_table.ipynb>data table notebook</a>'\n",
              "            + ' to learn more about interactive tables.';\n",
              "          element.innerHTML = '';\n",
              "          dataTable['output_type'] = 'display_data';\n",
              "          await google.colab.output.renderOutput(dataTable, element);\n",
              "          const docLink = document.createElement('div');\n",
              "          docLink.innerHTML = docLinkHtml;\n",
              "          element.appendChild(docLink);\n",
              "        }\n",
              "      </script>\n",
              "    </div>\n",
              "  </div>\n",
              "  "
            ]
          },
          "metadata": {},
          "execution_count": 51
        }
      ],
      "source": [
        "# Converting categorical feature to numeric\n",
        "df2.Sex=df2.Sex.map({'female':0, 'male':1})\n",
        "df2.Embarked=df2.Embarked.map({'S':0, 'C':1, 'Q':2,'nan':'nan'})\n",
        "df2.head()"
      ]
    },
    {
      "cell_type": "code",
      "execution_count": null,
      "id": "amazing-inquiry",
      "metadata": {
        "execution": {
          "iopub.execute_input": "2022-02-02T16:49:58.613378Z",
          "iopub.status.busy": "2022-02-02T16:49:58.612423Z",
          "iopub.status.idle": "2022-02-02T16:49:58.616974Z",
          "shell.execute_reply": "2022-02-02T16:49:58.616297Z",
          "shell.execute_reply.started": "2022-02-02T16:47:30.143739Z"
        },
        "papermill": {
          "duration": 0.086326,
          "end_time": "2022-02-02T16:49:58.617125",
          "exception": false,
          "start_time": "2022-02-02T16:49:58.530799",
          "status": "completed"
        },
        "tags": [],
        "id": "amazing-inquiry",
        "outputId": "97ab4cae-1259-4c1c-a9fb-418611ea3221",
        "colab": {
          "base_uri": "https://localhost:8080/"
        }
      },
      "outputs": [
        {
          "output_type": "execute_result",
          "data": {
            "text/plain": [
              "Pclass       0\n",
              "Sex          0\n",
              "Age         86\n",
              "SibSp        0\n",
              "Parch        0\n",
              "Fare         1\n",
              "Embarked     0\n",
              "dtype: int64"
            ]
          },
          "metadata": {},
          "execution_count": 52
        }
      ],
      "source": [
        "# Checking for null values\n",
        "df2.isnull().sum()"
      ]
    },
    {
      "cell_type": "code",
      "source": [
        "df2.skew()"
      ],
      "metadata": {
        "colab": {
          "base_uri": "https://localhost:8080/"
        },
        "id": "DUvXmVH8xnPf",
        "outputId": "7d610096-ecda-4560-bd30-222db4eb8a89"
      },
      "id": "DUvXmVH8xnPf",
      "execution_count": null,
      "outputs": [
        {
          "output_type": "execute_result",
          "data": {
            "text/plain": [
              "Pclass     -0.534170\n",
              "Sex        -0.568991\n",
              "Age         0.457361\n",
              "SibSp       4.168337\n",
              "Parch       4.654462\n",
              "Fare        3.687213\n",
              "Embarked    1.162115\n",
              "dtype: float64"
            ]
          },
          "metadata": {},
          "execution_count": 53
        }
      ]
    },
    {
      "cell_type": "code",
      "execution_count": null,
      "id": "blocked-rotation",
      "metadata": {
        "execution": {
          "iopub.execute_input": "2022-02-02T16:49:58.772876Z",
          "iopub.status.busy": "2022-02-02T16:49:58.772162Z",
          "iopub.status.idle": "2022-02-02T16:49:58.778894Z",
          "shell.execute_reply": "2022-02-02T16:49:58.778348Z",
          "shell.execute_reply.started": "2022-02-02T16:47:30.153372Z"
        },
        "papermill": {
          "duration": 0.087082,
          "end_time": "2022-02-02T16:49:58.779064",
          "exception": false,
          "start_time": "2022-02-02T16:49:58.691982",
          "status": "completed"
        },
        "tags": [],
        "id": "blocked-rotation"
      },
      "outputs": [],
      "source": [
        "# median age of each sex\n",
        "median_age_men2=df2[df2['Sex']==1]['Age'].median()\n",
        "median_age_women2=df2[df2['Sex']==0]['Age'].median()"
      ]
    },
    {
      "cell_type": "code",
      "execution_count": null,
      "id": "german-broadcast",
      "metadata": {
        "execution": {
          "iopub.execute_input": "2022-02-02T16:49:58.937104Z",
          "iopub.status.busy": "2022-02-02T16:49:58.936195Z",
          "iopub.status.idle": "2022-02-02T16:49:58.939504Z",
          "shell.execute_reply": "2022-02-02T16:49:58.938822Z",
          "shell.execute_reply.started": "2022-02-02T16:47:30.165332Z"
        },
        "papermill": {
          "duration": 0.085995,
          "end_time": "2022-02-02T16:49:58.939683",
          "exception": false,
          "start_time": "2022-02-02T16:49:58.853688",
          "status": "completed"
        },
        "scrolled": true,
        "tags": [],
        "id": "german-broadcast"
      },
      "outputs": [],
      "source": [
        "# filling null values with respective median age\n",
        "df2.loc[(df2.Age.isnull()) & (df2['Sex']==0),'Age']=median_age_women2\n",
        "df2.loc[(df2.Age.isnull()) & (df2['Sex']==1),'Age']=median_age_men2"
      ]
    },
    {
      "cell_type": "code",
      "execution_count": null,
      "id": "educated-apparel",
      "metadata": {
        "execution": {
          "iopub.execute_input": "2022-02-02T16:49:59.097921Z",
          "iopub.status.busy": "2022-02-02T16:49:59.097199Z",
          "iopub.status.idle": "2022-02-02T16:49:59.099989Z",
          "shell.execute_reply": "2022-02-02T16:49:59.100490Z",
          "shell.execute_reply.started": "2022-02-02T16:47:30.174141Z"
        },
        "papermill": {
          "duration": 0.086848,
          "end_time": "2022-02-02T16:49:59.100667",
          "exception": false,
          "start_time": "2022-02-02T16:49:59.013819",
          "status": "completed"
        },
        "tags": [],
        "id": "educated-apparel"
      },
      "outputs": [],
      "source": [
        "# filling null values with median fare\n",
        "df2['Fare']=df2['Fare'].fillna(df2['Fare'].median())"
      ]
    },
    {
      "cell_type": "code",
      "execution_count": null,
      "id": "lasting-extraction",
      "metadata": {
        "execution": {
          "iopub.execute_input": "2022-02-02T16:49:59.258176Z",
          "iopub.status.busy": "2022-02-02T16:49:59.257431Z",
          "iopub.status.idle": "2022-02-02T16:49:59.262534Z",
          "shell.execute_reply": "2022-02-02T16:49:59.262004Z",
          "shell.execute_reply.started": "2022-02-02T16:47:30.185278Z"
        },
        "papermill": {
          "duration": 0.087526,
          "end_time": "2022-02-02T16:49:59.262695",
          "exception": false,
          "start_time": "2022-02-02T16:49:59.175169",
          "status": "completed"
        },
        "scrolled": true,
        "tags": [],
        "id": "lasting-extraction",
        "outputId": "d4436cf3-7b57-4fcf-f54c-dceb697b1ca0",
        "colab": {
          "base_uri": "https://localhost:8080/"
        }
      },
      "outputs": [
        {
          "output_type": "execute_result",
          "data": {
            "text/plain": [
              "Pclass      0\n",
              "Sex         0\n",
              "Age         0\n",
              "SibSp       0\n",
              "Parch       0\n",
              "Fare        0\n",
              "Embarked    0\n",
              "dtype: int64"
            ]
          },
          "metadata": {},
          "execution_count": 57
        }
      ],
      "source": [
        "df2.isnull().sum()"
      ]
    },
    {
      "cell_type": "code",
      "execution_count": null,
      "id": "tight-longitude",
      "metadata": {
        "execution": {
          "iopub.execute_input": "2022-02-02T16:50:00.080707Z",
          "iopub.status.busy": "2022-02-02T16:50:00.074087Z",
          "iopub.status.idle": "2022-02-02T16:50:00.090833Z",
          "shell.execute_reply": "2022-02-02T16:50:00.090270Z",
          "shell.execute_reply.started": "2022-02-02T16:47:30.243700Z"
        },
        "papermill": {
          "duration": 0.10409,
          "end_time": "2022-02-02T16:50:00.090989",
          "exception": false,
          "start_time": "2022-02-02T16:49:59.986899",
          "status": "completed"
        },
        "scrolled": true,
        "tags": [],
        "id": "tight-longitude",
        "outputId": "e7dd5f50-746c-4730-a6ab-97401d6c6b17",
        "colab": {
          "base_uri": "https://localhost:8080/",
          "height": 206
        }
      },
      "outputs": [
        {
          "output_type": "execute_result",
          "data": {
            "text/plain": [
              "   Pclass  Sex   Age  SibSp  Parch     Fare Embarked\n",
              "0       3    1  34.5      0      0   7.8292        2\n",
              "1       3    0  47.0      1      0   7.0000        0\n",
              "2       2    1  62.0      0      0   9.6875        2\n",
              "3       3    1  27.0      0      0   8.6625        0\n",
              "4       3    0  22.0      1      1  12.2875        0"
            ],
            "text/html": [
              "\n",
              "  <div id=\"df-6bca9e27-3a8d-4c8d-934b-2e044367e987\">\n",
              "    <div class=\"colab-df-container\">\n",
              "      <div>\n",
              "<style scoped>\n",
              "    .dataframe tbody tr th:only-of-type {\n",
              "        vertical-align: middle;\n",
              "    }\n",
              "\n",
              "    .dataframe tbody tr th {\n",
              "        vertical-align: top;\n",
              "    }\n",
              "\n",
              "    .dataframe thead th {\n",
              "        text-align: right;\n",
              "    }\n",
              "</style>\n",
              "<table border=\"1\" class=\"dataframe\">\n",
              "  <thead>\n",
              "    <tr style=\"text-align: right;\">\n",
              "      <th></th>\n",
              "      <th>Pclass</th>\n",
              "      <th>Sex</th>\n",
              "      <th>Age</th>\n",
              "      <th>SibSp</th>\n",
              "      <th>Parch</th>\n",
              "      <th>Fare</th>\n",
              "      <th>Embarked</th>\n",
              "    </tr>\n",
              "  </thead>\n",
              "  <tbody>\n",
              "    <tr>\n",
              "      <th>0</th>\n",
              "      <td>3</td>\n",
              "      <td>1</td>\n",
              "      <td>34.5</td>\n",
              "      <td>0</td>\n",
              "      <td>0</td>\n",
              "      <td>7.8292</td>\n",
              "      <td>2</td>\n",
              "    </tr>\n",
              "    <tr>\n",
              "      <th>1</th>\n",
              "      <td>3</td>\n",
              "      <td>0</td>\n",
              "      <td>47.0</td>\n",
              "      <td>1</td>\n",
              "      <td>0</td>\n",
              "      <td>7.0000</td>\n",
              "      <td>0</td>\n",
              "    </tr>\n",
              "    <tr>\n",
              "      <th>2</th>\n",
              "      <td>2</td>\n",
              "      <td>1</td>\n",
              "      <td>62.0</td>\n",
              "      <td>0</td>\n",
              "      <td>0</td>\n",
              "      <td>9.6875</td>\n",
              "      <td>2</td>\n",
              "    </tr>\n",
              "    <tr>\n",
              "      <th>3</th>\n",
              "      <td>3</td>\n",
              "      <td>1</td>\n",
              "      <td>27.0</td>\n",
              "      <td>0</td>\n",
              "      <td>0</td>\n",
              "      <td>8.6625</td>\n",
              "      <td>0</td>\n",
              "    </tr>\n",
              "    <tr>\n",
              "      <th>4</th>\n",
              "      <td>3</td>\n",
              "      <td>0</td>\n",
              "      <td>22.0</td>\n",
              "      <td>1</td>\n",
              "      <td>1</td>\n",
              "      <td>12.2875</td>\n",
              "      <td>0</td>\n",
              "    </tr>\n",
              "  </tbody>\n",
              "</table>\n",
              "</div>\n",
              "      <button class=\"colab-df-convert\" onclick=\"convertToInteractive('df-6bca9e27-3a8d-4c8d-934b-2e044367e987')\"\n",
              "              title=\"Convert this dataframe to an interactive table.\"\n",
              "              style=\"display:none;\">\n",
              "        \n",
              "  <svg xmlns=\"http://www.w3.org/2000/svg\" height=\"24px\"viewBox=\"0 0 24 24\"\n",
              "       width=\"24px\">\n",
              "    <path d=\"M0 0h24v24H0V0z\" fill=\"none\"/>\n",
              "    <path d=\"M18.56 5.44l.94 2.06.94-2.06 2.06-.94-2.06-.94-.94-2.06-.94 2.06-2.06.94zm-11 1L8.5 8.5l.94-2.06 2.06-.94-2.06-.94L8.5 2.5l-.94 2.06-2.06.94zm10 10l.94 2.06.94-2.06 2.06-.94-2.06-.94-.94-2.06-.94 2.06-2.06.94z\"/><path d=\"M17.41 7.96l-1.37-1.37c-.4-.4-.92-.59-1.43-.59-.52 0-1.04.2-1.43.59L10.3 9.45l-7.72 7.72c-.78.78-.78 2.05 0 2.83L4 21.41c.39.39.9.59 1.41.59.51 0 1.02-.2 1.41-.59l7.78-7.78 2.81-2.81c.8-.78.8-2.07 0-2.86zM5.41 20L4 18.59l7.72-7.72 1.47 1.35L5.41 20z\"/>\n",
              "  </svg>\n",
              "      </button>\n",
              "      \n",
              "  <style>\n",
              "    .colab-df-container {\n",
              "      display:flex;\n",
              "      flex-wrap:wrap;\n",
              "      gap: 12px;\n",
              "    }\n",
              "\n",
              "    .colab-df-convert {\n",
              "      background-color: #E8F0FE;\n",
              "      border: none;\n",
              "      border-radius: 50%;\n",
              "      cursor: pointer;\n",
              "      display: none;\n",
              "      fill: #1967D2;\n",
              "      height: 32px;\n",
              "      padding: 0 0 0 0;\n",
              "      width: 32px;\n",
              "    }\n",
              "\n",
              "    .colab-df-convert:hover {\n",
              "      background-color: #E2EBFA;\n",
              "      box-shadow: 0px 1px 2px rgba(60, 64, 67, 0.3), 0px 1px 3px 1px rgba(60, 64, 67, 0.15);\n",
              "      fill: #174EA6;\n",
              "    }\n",
              "\n",
              "    [theme=dark] .colab-df-convert {\n",
              "      background-color: #3B4455;\n",
              "      fill: #D2E3FC;\n",
              "    }\n",
              "\n",
              "    [theme=dark] .colab-df-convert:hover {\n",
              "      background-color: #434B5C;\n",
              "      box-shadow: 0px 1px 3px 1px rgba(0, 0, 0, 0.15);\n",
              "      filter: drop-shadow(0px 1px 2px rgba(0, 0, 0, 0.3));\n",
              "      fill: #FFFFFF;\n",
              "    }\n",
              "  </style>\n",
              "\n",
              "      <script>\n",
              "        const buttonEl =\n",
              "          document.querySelector('#df-6bca9e27-3a8d-4c8d-934b-2e044367e987 button.colab-df-convert');\n",
              "        buttonEl.style.display =\n",
              "          google.colab.kernel.accessAllowed ? 'block' : 'none';\n",
              "\n",
              "        async function convertToInteractive(key) {\n",
              "          const element = document.querySelector('#df-6bca9e27-3a8d-4c8d-934b-2e044367e987');\n",
              "          const dataTable =\n",
              "            await google.colab.kernel.invokeFunction('convertToInteractive',\n",
              "                                                     [key], {});\n",
              "          if (!dataTable) return;\n",
              "\n",
              "          const docLinkHtml = 'Like what you see? Visit the ' +\n",
              "            '<a target=\"_blank\" href=https://colab.research.google.com/notebooks/data_table.ipynb>data table notebook</a>'\n",
              "            + ' to learn more about interactive tables.';\n",
              "          element.innerHTML = '';\n",
              "          dataTable['output_type'] = 'display_data';\n",
              "          await google.colab.output.renderOutput(dataTable, element);\n",
              "          const docLink = document.createElement('div');\n",
              "          docLink.innerHTML = docLinkHtml;\n",
              "          element.appendChild(docLink);\n",
              "        }\n",
              "      </script>\n",
              "    </div>\n",
              "  </div>\n",
              "  "
            ]
          },
          "metadata": {},
          "execution_count": 58
        }
      ],
      "source": [
        "# cleaned dataset\n",
        "df2.head()"
      ]
    },
    {
      "cell_type": "code",
      "execution_count": null,
      "id": "blessed-davis",
      "metadata": {
        "execution": {
          "iopub.execute_input": "2022-02-02T16:50:00.254900Z",
          "iopub.status.busy": "2022-02-02T16:50:00.254164Z",
          "iopub.status.idle": "2022-02-02T16:50:00.257106Z",
          "shell.execute_reply": "2022-02-02T16:50:00.257604Z",
          "shell.execute_reply.started": "2022-02-02T16:47:30.260044Z"
        },
        "papermill": {
          "duration": 0.087165,
          "end_time": "2022-02-02T16:50:00.257808",
          "exception": false,
          "start_time": "2022-02-02T16:50:00.170643",
          "status": "completed"
        },
        "tags": [],
        "id": "blessed-davis"
      },
      "outputs": [],
      "source": [
        "# feature scaling\n",
        "df2.Age = (df2.Age-min(df2.Age))/(max(df2.Age)-min(df2.Age))\n",
        "df2.Fare = (df2.Fare-min(df2.Fare))/(max(df2.Fare)-min(df2.Fare))"
      ]
    },
    {
      "cell_type": "code",
      "execution_count": null,
      "id": "selected-flower",
      "metadata": {
        "execution": {
          "iopub.execute_input": "2022-02-02T16:50:00.412888Z",
          "iopub.status.busy": "2022-02-02T16:50:00.412184Z",
          "iopub.status.idle": "2022-02-02T16:50:00.426381Z",
          "shell.execute_reply": "2022-02-02T16:50:00.425841Z",
          "shell.execute_reply.started": "2022-02-02T16:47:30.268998Z"
        },
        "papermill": {
          "duration": 0.092188,
          "end_time": "2022-02-02T16:50:00.426535",
          "exception": false,
          "start_time": "2022-02-02T16:50:00.334347",
          "status": "completed"
        },
        "tags": [],
        "id": "selected-flower",
        "outputId": "b48a4f69-52eb-49ef-a934-93344553e77e",
        "colab": {
          "base_uri": "https://localhost:8080/",
          "height": 206
        }
      },
      "outputs": [
        {
          "output_type": "execute_result",
          "data": {
            "text/plain": [
              "   Pclass  Sex       Age  SibSp  Parch      Fare Embarked\n",
              "0       3    1  0.452723      0      0  0.015282        2\n",
              "1       3    0  0.617566      1      0  0.013663        0\n",
              "2       2    1  0.815377      0      0  0.018909        2\n",
              "3       3    1  0.353818      0      0  0.016908        0\n",
              "4       3    0  0.287881      1      1  0.023984        0"
            ],
            "text/html": [
              "\n",
              "  <div id=\"df-08fc33c9-0679-4f77-acf8-d01266e3ad3e\">\n",
              "    <div class=\"colab-df-container\">\n",
              "      <div>\n",
              "<style scoped>\n",
              "    .dataframe tbody tr th:only-of-type {\n",
              "        vertical-align: middle;\n",
              "    }\n",
              "\n",
              "    .dataframe tbody tr th {\n",
              "        vertical-align: top;\n",
              "    }\n",
              "\n",
              "    .dataframe thead th {\n",
              "        text-align: right;\n",
              "    }\n",
              "</style>\n",
              "<table border=\"1\" class=\"dataframe\">\n",
              "  <thead>\n",
              "    <tr style=\"text-align: right;\">\n",
              "      <th></th>\n",
              "      <th>Pclass</th>\n",
              "      <th>Sex</th>\n",
              "      <th>Age</th>\n",
              "      <th>SibSp</th>\n",
              "      <th>Parch</th>\n",
              "      <th>Fare</th>\n",
              "      <th>Embarked</th>\n",
              "    </tr>\n",
              "  </thead>\n",
              "  <tbody>\n",
              "    <tr>\n",
              "      <th>0</th>\n",
              "      <td>3</td>\n",
              "      <td>1</td>\n",
              "      <td>0.452723</td>\n",
              "      <td>0</td>\n",
              "      <td>0</td>\n",
              "      <td>0.015282</td>\n",
              "      <td>2</td>\n",
              "    </tr>\n",
              "    <tr>\n",
              "      <th>1</th>\n",
              "      <td>3</td>\n",
              "      <td>0</td>\n",
              "      <td>0.617566</td>\n",
              "      <td>1</td>\n",
              "      <td>0</td>\n",
              "      <td>0.013663</td>\n",
              "      <td>0</td>\n",
              "    </tr>\n",
              "    <tr>\n",
              "      <th>2</th>\n",
              "      <td>2</td>\n",
              "      <td>1</td>\n",
              "      <td>0.815377</td>\n",
              "      <td>0</td>\n",
              "      <td>0</td>\n",
              "      <td>0.018909</td>\n",
              "      <td>2</td>\n",
              "    </tr>\n",
              "    <tr>\n",
              "      <th>3</th>\n",
              "      <td>3</td>\n",
              "      <td>1</td>\n",
              "      <td>0.353818</td>\n",
              "      <td>0</td>\n",
              "      <td>0</td>\n",
              "      <td>0.016908</td>\n",
              "      <td>0</td>\n",
              "    </tr>\n",
              "    <tr>\n",
              "      <th>4</th>\n",
              "      <td>3</td>\n",
              "      <td>0</td>\n",
              "      <td>0.287881</td>\n",
              "      <td>1</td>\n",
              "      <td>1</td>\n",
              "      <td>0.023984</td>\n",
              "      <td>0</td>\n",
              "    </tr>\n",
              "  </tbody>\n",
              "</table>\n",
              "</div>\n",
              "      <button class=\"colab-df-convert\" onclick=\"convertToInteractive('df-08fc33c9-0679-4f77-acf8-d01266e3ad3e')\"\n",
              "              title=\"Convert this dataframe to an interactive table.\"\n",
              "              style=\"display:none;\">\n",
              "        \n",
              "  <svg xmlns=\"http://www.w3.org/2000/svg\" height=\"24px\"viewBox=\"0 0 24 24\"\n",
              "       width=\"24px\">\n",
              "    <path d=\"M0 0h24v24H0V0z\" fill=\"none\"/>\n",
              "    <path d=\"M18.56 5.44l.94 2.06.94-2.06 2.06-.94-2.06-.94-.94-2.06-.94 2.06-2.06.94zm-11 1L8.5 8.5l.94-2.06 2.06-.94-2.06-.94L8.5 2.5l-.94 2.06-2.06.94zm10 10l.94 2.06.94-2.06 2.06-.94-2.06-.94-.94-2.06-.94 2.06-2.06.94z\"/><path d=\"M17.41 7.96l-1.37-1.37c-.4-.4-.92-.59-1.43-.59-.52 0-1.04.2-1.43.59L10.3 9.45l-7.72 7.72c-.78.78-.78 2.05 0 2.83L4 21.41c.39.39.9.59 1.41.59.51 0 1.02-.2 1.41-.59l7.78-7.78 2.81-2.81c.8-.78.8-2.07 0-2.86zM5.41 20L4 18.59l7.72-7.72 1.47 1.35L5.41 20z\"/>\n",
              "  </svg>\n",
              "      </button>\n",
              "      \n",
              "  <style>\n",
              "    .colab-df-container {\n",
              "      display:flex;\n",
              "      flex-wrap:wrap;\n",
              "      gap: 12px;\n",
              "    }\n",
              "\n",
              "    .colab-df-convert {\n",
              "      background-color: #E8F0FE;\n",
              "      border: none;\n",
              "      border-radius: 50%;\n",
              "      cursor: pointer;\n",
              "      display: none;\n",
              "      fill: #1967D2;\n",
              "      height: 32px;\n",
              "      padding: 0 0 0 0;\n",
              "      width: 32px;\n",
              "    }\n",
              "\n",
              "    .colab-df-convert:hover {\n",
              "      background-color: #E2EBFA;\n",
              "      box-shadow: 0px 1px 2px rgba(60, 64, 67, 0.3), 0px 1px 3px 1px rgba(60, 64, 67, 0.15);\n",
              "      fill: #174EA6;\n",
              "    }\n",
              "\n",
              "    [theme=dark] .colab-df-convert {\n",
              "      background-color: #3B4455;\n",
              "      fill: #D2E3FC;\n",
              "    }\n",
              "\n",
              "    [theme=dark] .colab-df-convert:hover {\n",
              "      background-color: #434B5C;\n",
              "      box-shadow: 0px 1px 3px 1px rgba(0, 0, 0, 0.15);\n",
              "      filter: drop-shadow(0px 1px 2px rgba(0, 0, 0, 0.3));\n",
              "      fill: #FFFFFF;\n",
              "    }\n",
              "  </style>\n",
              "\n",
              "      <script>\n",
              "        const buttonEl =\n",
              "          document.querySelector('#df-08fc33c9-0679-4f77-acf8-d01266e3ad3e button.colab-df-convert');\n",
              "        buttonEl.style.display =\n",
              "          google.colab.kernel.accessAllowed ? 'block' : 'none';\n",
              "\n",
              "        async function convertToInteractive(key) {\n",
              "          const element = document.querySelector('#df-08fc33c9-0679-4f77-acf8-d01266e3ad3e');\n",
              "          const dataTable =\n",
              "            await google.colab.kernel.invokeFunction('convertToInteractive',\n",
              "                                                     [key], {});\n",
              "          if (!dataTable) return;\n",
              "\n",
              "          const docLinkHtml = 'Like what you see? Visit the ' +\n",
              "            '<a target=\"_blank\" href=https://colab.research.google.com/notebooks/data_table.ipynb>data table notebook</a>'\n",
              "            + ' to learn more about interactive tables.';\n",
              "          element.innerHTML = '';\n",
              "          dataTable['output_type'] = 'display_data';\n",
              "          await google.colab.output.renderOutput(dataTable, element);\n",
              "          const docLink = document.createElement('div');\n",
              "          docLink.innerHTML = docLinkHtml;\n",
              "          element.appendChild(docLink);\n",
              "        }\n",
              "      </script>\n",
              "    </div>\n",
              "  </div>\n",
              "  "
            ]
          },
          "metadata": {},
          "execution_count": 60
        }
      ],
      "source": [
        "# test dataset\n",
        "df2.head()"
      ]
    },
    {
      "cell_type": "markdown",
      "id": "hybrid-ethernet",
      "metadata": {
        "papermill": {
          "duration": 0.077205,
          "end_time": "2022-02-02T16:50:00.581050",
          "exception": false,
          "start_time": "2022-02-02T16:50:00.503845",
          "status": "completed"
        },
        "tags": [],
        "id": "hybrid-ethernet"
      },
      "source": [
        "## Prediction"
      ]
    },
    {
      "cell_type": "code",
      "execution_count": null,
      "id": "committed-producer",
      "metadata": {
        "execution": {
          "iopub.execute_input": "2022-02-02T16:50:00.742577Z",
          "iopub.status.busy": "2022-02-02T16:50:00.741878Z",
          "iopub.status.idle": "2022-02-02T16:50:00.746180Z",
          "shell.execute_reply": "2022-02-02T16:50:00.745598Z",
          "shell.execute_reply.started": "2022-02-02T16:47:30.287521Z"
        },
        "papermill": {
          "duration": 0.087276,
          "end_time": "2022-02-02T16:50:00.746321",
          "exception": false,
          "start_time": "2022-02-02T16:50:00.659045",
          "status": "completed"
        },
        "tags": [],
        "id": "committed-producer"
      },
      "outputs": [],
      "source": [
        "pred = clf.predict(df2)"
      ]
    },
    {
      "cell_type": "code",
      "execution_count": null,
      "id": "offshore-dodge",
      "metadata": {
        "execution": {
          "iopub.execute_input": "2022-02-02T16:50:00.903994Z",
          "iopub.status.busy": "2022-02-02T16:50:00.903278Z",
          "iopub.status.idle": "2022-02-02T16:50:00.910315Z",
          "shell.execute_reply": "2022-02-02T16:50:00.910893Z",
          "shell.execute_reply.started": "2022-02-02T16:47:30.299097Z"
        },
        "papermill": {
          "duration": 0.087746,
          "end_time": "2022-02-02T16:50:00.911086",
          "exception": false,
          "start_time": "2022-02-02T16:50:00.823340",
          "status": "completed"
        },
        "tags": [],
        "id": "offshore-dodge",
        "outputId": "37d351a1-8acf-41bf-d885-f7c95ea3b5b8",
        "colab": {
          "base_uri": "https://localhost:8080/"
        }
      },
      "outputs": [
        {
          "output_type": "execute_result",
          "data": {
            "text/plain": [
              "array([0, 0, 0, 0, 1, 0, 1, 0, 1, 0, 0, 0, 1, 0, 1, 1, 0, 0, 0, 0, 0, 0,\n",
              "       1, 1, 1, 0, 1, 0, 0, 0, 0, 0, 0, 1, 0, 0, 1, 1, 0, 0, 0, 0, 0, 1,\n",
              "       1, 0, 0, 0, 1, 1, 0, 0, 1, 1, 0, 0, 0, 0, 0, 1, 0, 0, 0, 1, 1, 1,\n",
              "       1, 0, 1, 1, 1, 0, 1, 1, 1, 1, 0, 1, 0, 1, 0, 0, 0, 0, 0, 0, 1, 1,\n",
              "       1, 0, 1, 0, 1, 0, 1, 0, 1, 0, 1, 0, 1, 0, 0, 0, 1, 0, 0, 0, 0, 0,\n",
              "       0, 1, 1, 1, 1, 0, 0, 1, 0, 1, 1, 0, 1, 0, 0, 1, 0, 1, 0, 0, 0, 0,\n",
              "       1, 0, 0, 0, 0, 0, 1, 0, 0, 1, 0, 0, 0, 0, 0, 0, 0, 0, 1, 0, 0, 1,\n",
              "       0, 0, 1, 1, 0, 1, 1, 0, 1, 0, 0, 1, 0, 0, 1, 1, 0, 0, 0, 0, 0, 1,\n",
              "       1, 0, 1, 1, 0, 0, 1, 0, 1, 0, 1, 0, 0, 0, 0, 0, 0, 0, 0, 0, 1, 1,\n",
              "       0, 1, 1, 0, 0, 1, 0, 1, 1, 0, 1, 0, 0, 0, 0, 0, 0, 0, 1, 0, 1, 0,\n",
              "       1, 0, 1, 0, 1, 1, 0, 1, 0, 0, 0, 1, 0, 0, 0, 0, 0, 0, 1, 1, 1, 1,\n",
              "       0, 0, 0, 0, 1, 0, 1, 1, 1, 0, 1, 0, 0, 0, 0, 0, 1, 0, 0, 0, 1, 1,\n",
              "       0, 0, 0, 0, 1, 0, 0, 0, 1, 1, 0, 1, 0, 0, 0, 0, 1, 0, 1, 1, 1, 0,\n",
              "       0, 0, 0, 0, 0, 1, 0, 0, 0, 0, 1, 0, 0, 0, 0, 0, 0, 0, 1, 1, 0, 0,\n",
              "       0, 0, 0, 0, 0, 1, 1, 1, 0, 0, 0, 0, 0, 0, 0, 0, 1, 0, 1, 0, 0, 0,\n",
              "       1, 0, 0, 1, 0, 0, 0, 0, 0, 0, 0, 0, 0, 1, 0, 1, 0, 1, 0, 1, 1, 0,\n",
              "       0, 0, 1, 0, 1, 0, 0, 0, 0, 1, 1, 0, 1, 1, 0, 1, 1, 0, 0, 1, 0, 0,\n",
              "       1, 1, 0, 0, 0, 0, 0, 0, 1, 1, 0, 1, 0, 0, 0, 0, 1, 1, 0, 0, 0, 1,\n",
              "       0, 1, 0, 0, 1, 0, 1, 1, 0, 0, 0, 0, 1, 1, 1, 1, 1, 0, 1, 0, 0, 0])"
            ]
          },
          "metadata": {},
          "execution_count": 62
        }
      ],
      "source": [
        "pred"
      ]
    },
    {
      "cell_type": "code",
      "execution_count": null,
      "id": "expressed-arrival",
      "metadata": {
        "execution": {
          "iopub.execute_input": "2022-02-02T16:50:01.075306Z",
          "iopub.status.busy": "2022-02-02T16:50:01.074244Z",
          "iopub.status.idle": "2022-02-02T16:50:01.086411Z",
          "shell.execute_reply": "2022-02-02T16:50:01.086964Z",
          "shell.execute_reply.started": "2022-02-02T16:47:30.311613Z"
        },
        "papermill": {
          "duration": 0.099026,
          "end_time": "2022-02-02T16:50:01.087170",
          "exception": false,
          "start_time": "2022-02-02T16:50:00.988144",
          "status": "completed"
        },
        "tags": [],
        "id": "expressed-arrival"
      },
      "outputs": [],
      "source": [
        "submission = pd.DataFrame({\n",
        "        \"PassengerId\": test[\"PassengerId\"],\n",
        "        \"Survived\": pred\n",
        "    })\n",
        "submission.to_csv('submission.csv', index=False)"
      ]
    },
    {
      "cell_type": "code",
      "execution_count": null,
      "id": "humanitarian-interest",
      "metadata": {
        "execution": {
          "iopub.execute_input": "2022-02-02T16:50:01.247396Z",
          "iopub.status.busy": "2022-02-02T16:50:01.246354Z",
          "iopub.status.idle": "2022-02-02T16:50:01.253310Z",
          "shell.execute_reply": "2022-02-02T16:50:01.252659Z",
          "shell.execute_reply.started": "2022-02-02T16:47:30.325752Z"
        },
        "papermill": {
          "duration": 0.088505,
          "end_time": "2022-02-02T16:50:01.253457",
          "exception": false,
          "start_time": "2022-02-02T16:50:01.164952",
          "status": "completed"
        },
        "tags": [],
        "id": "humanitarian-interest"
      },
      "outputs": [],
      "source": [
        "pred_df = pd.read_csv('submission.csv')"
      ]
    },
    {
      "cell_type": "code",
      "execution_count": null,
      "id": "timely-flavor",
      "metadata": {
        "execution": {
          "iopub.execute_input": "2022-02-02T16:50:01.413029Z",
          "iopub.status.busy": "2022-02-02T16:50:01.412347Z",
          "iopub.status.idle": "2022-02-02T16:50:01.531202Z",
          "shell.execute_reply": "2022-02-02T16:50:01.531763Z",
          "shell.execute_reply.started": "2022-02-02T16:47:30.334400Z"
        },
        "papermill": {
          "duration": 0.199489,
          "end_time": "2022-02-02T16:50:01.531944",
          "exception": false,
          "start_time": "2022-02-02T16:50:01.332455",
          "status": "completed"
        },
        "tags": [],
        "id": "timely-flavor",
        "outputId": "60451c46-122b-42bb-86c5-4da4c356ec58",
        "colab": {
          "base_uri": "https://localhost:8080/",
          "height": 528
        }
      },
      "outputs": [
        {
          "output_type": "execute_result",
          "data": {
            "text/plain": [
              "<matplotlib.axes._subplots.AxesSubplot at 0x7f220efa4c10>"
            ]
          },
          "metadata": {},
          "execution_count": 65
        },
        {
          "output_type": "display_data",
          "data": {
            "text/plain": [
              "<Figure size 842.4x595.44 with 1 Axes>"
            ],
            "image/png": "[encoded data removed]"
          },
          "metadata": {
            "needs_background": "light"
          }
        }
      ],
      "source": [
        "# visualizing predicted values\n",
        "sns.countplot(x='Survived', data=pred_df)"
      ]
    },
    {
      "cell_type": "code",
      "source": [
        "from sklearn.model_selection import cross_val_score"
      ],
      "metadata": {
        "id": "PCdXi9Y2SYCL"
      },
      "id": "PCdXi9Y2SYCL",
      "execution_count": null,
      "outputs": []
    },
    {
      "cell_type": "code",
      "source": [
        "scores = cross_val_score(\n",
        "     clf, df1.drop(['Survived'], axis=1), df1['Survived'], cv=5, scoring='accuracy')"
      ],
      "metadata": {
        "id": "ILRVdCaBSZ1_"
      },
      "id": "ILRVdCaBSZ1_",
      "execution_count": null,
      "outputs": []
    },
    {
      "cell_type": "code",
      "source": [
        "np.mean(scores)"
      ],
      "metadata": {
        "colab": {
          "base_uri": "https://localhost:8080/"
        },
        "id": "fBcIE-5FSeVP",
        "outputId": "a23b27cc-b98a-4d07-b8db-6f42ac452392"
      },
      "id": "fBcIE-5FSeVP",
      "execution_count": null,
      "outputs": [
        {
          "output_type": "execute_result",
          "data": {
            "text/plain": [
              "0.79417888656129"
            ]
          },
          "metadata": {},
          "execution_count": 68
        }
      ]
    },
    {
      "cell_type": "code",
      "source": [],
      "metadata": {
        "id": "P0A_LnmfTuzk"
      },
      "id": "P0A_LnmfTuzk",
      "execution_count": null,
      "outputs": []
    }
  ],
  "metadata": {
    "kernelspec": {
      "display_name": "Python 3",
      "language": "python",
      "name": "python3"
    },
    "language_info": {
      "codemirror_mode": {
        "name": "ipython",
        "version": 3
      },
      "file_extension": ".py",
      "mimetype": "text/x-python",
      "name": "python",
      "nbconvert_exporter": "python",
      "pygments_lexer": "ipython3",
      "version": "3.7.10"
    },
    "papermill": {
      "default_parameters": {},
      "duration": 25.052974,
      "end_time": "2022-02-02T16:50:02.577537",
      "environment_variables": {},
      "exception": null,
      "input_path": "__notebook__.ipynb",
      "output_path": "__notebook__.ipynb",
      "parameters": {},
      "start_time": "2022-02-02T16:49:37.524563",
      "version": "2.3.3"
    },
    "colab": {
      "provenance": [],
      "include_colab_link": true
    }
  },
  "nbformat": 4,
  "nbformat_minor": 5
}